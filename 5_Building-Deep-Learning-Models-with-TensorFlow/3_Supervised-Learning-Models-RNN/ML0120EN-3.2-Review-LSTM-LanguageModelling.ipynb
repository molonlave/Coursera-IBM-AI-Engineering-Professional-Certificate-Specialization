{
 "cells": [
  {
   "cell_type": "markdown",
   "metadata": {},
   "source": [
    "<a href=\"https://www.bigdatauniversity.com\"><img src=\"https://ibm.box.com/shared/static/qo20b88v1hbjztubt06609ovs85q8fau.png\" width=\"400px\" align=\"center\"></a>\n",
    "\n",
    "<h1 align=\"center\"><font size=\"5\">RECURRENT NETWORKS and LSTM IN DEEP LEARNING</font></h1>"
   ]
  },
  {
   "cell_type": "markdown",
   "metadata": {},
   "source": [
    "<h2>Applying Recurrent Neural Networks/LSTM for Language Modeling</h2>\n",
    "Hello and welcome to this part. In this notebook, we will go over the topic of Language Modelling, and create a Recurrent Neural Network model based on the Long Short-Term Memory unit to train and benchmark on the Penn Treebank dataset. By the end of this notebook, you should be able to understand how TensorFlow builds and executes a RNN model for Language Modelling."
   ]
  },
  {
   "cell_type": "markdown",
   "metadata": {},
   "source": [
    "<h2>The Objective</h2>\n",
    "By now, you should have an understanding of how Recurrent Networks work -- a specialized model to process sequential data by keeping track of the \"state\" or context. In this notebook, we go over a TensorFlow code snippet for creating a model focused on <b>Language Modelling</b> -- a very relevant task that is the cornerstone of many different linguistic problems such as <b>Speech Recognition, Machine Translation and Image Captioning</b>. For this, we will be using the Penn Treebank dataset, which is an often-used dataset for benchmarking Language Modelling models."
   ]
  },
  {
   "cell_type": "markdown",
   "metadata": {},
   "source": [
    "\n",
    "<h2>Table of Contents</h2>\n",
    "<ol>\n",
    "    <li><a href=\"#language_modelling\">What exactly is Language Modelling?</a></li>\n",
    "    <li><a href=\"#treebank_dataset\">The Penn Treebank dataset</a></li>\n",
    "    <li><a href=\"#word_embedding\">Work Embedding</a></li>\n",
    "    <li><a href=\"#building_lstm_model\">Building the LSTM model for Language Modeling</a></li>\n",
    "    <li><a href=\"#ltsm\">LTSM</a></li>\n",
    "</ol>\n",
    "<p></p>\n",
    "</div>\n",
    "<br>"
   ]
  },
  {
   "cell_type": "markdown",
   "metadata": {
    "button": false,
    "deletable": true,
    "new_sheet": false,
    "run_control": {
     "read_only": false
    }
   },
   "source": [
    "--------"
   ]
  },
  {
   "cell_type": "markdown",
   "metadata": {
    "button": false,
    "deletable": true,
    "new_sheet": false,
    "run_control": {
     "read_only": false
    }
   },
   "source": [
    "<a id=\"language_modelling\"></a>\n",
    "<h2>What exactly is Language Modelling?</h2>\n",
    "Language Modelling, to put it simply, <b>is the task of assigning probabilities to sequences of words</b>. This means that, given a context of one or a sequence of words in the language the model was trained on, the model should provide the next most probable words or sequence of words that follows from the given sequence of words the sentence. Language Modelling is one of the most important tasks in Natural Language Processing.\n",
    "\n",
    "<img src=\"https://ibm.box.com/shared/static/1d1i5gub6wljby2vani2vzxp0xsph702.png\" width=\"1080\">\n",
    "<center><i>Example of a sentence being predicted</i></center>\n",
    "<br><br>\n",
    "In this example, one can see the predictions for the next word of a sentence, given the context \"This is an\". As you can see, this boils down to a sequential data analysis task -- you are given a word or a sequence of words (the input data), and, given the context (the state), you need to find out what is the next word (the prediction). This kind of analysis is very important for language-related tasks such as <b>Speech Recognition, Machine Translation, Image Captioning, Text Correction</b> and many other very relevant problems. \n",
    "\n",
    "<img src=\"https://ibm.box.com/shared/static/az39idf9ipfdpc5ugifpgxnydelhyf3i.png\" width=\"1080\">\n",
    "<center><i>The above example is a schema of an RNN in execution</i></center>\n",
    "<br><br>\n",
    "As the above image shows, Recurrent Network models fit this problem like a glove. Alongside LSTM and its capacity to maintain the model's state for over one thousand time steps, we have all the tools we need to undertake this problem. The goal for this notebook is to create a model that can reach <b>low levels of perplexity</b> on our desired dataset.\n",
    "\n",
    "For Language Modelling problems, <b>perplexity</b> is the way to gauge efficiency. Perplexity is simply a measure of how well a probabilistic model is able to predict its sample. A higher-level way to explain this would be saying that <b>low perplexity means a higher degree of trust in the predictions the model makes</b>. Therefore, the lower perplexity is, the better."
   ]
  },
  {
   "cell_type": "markdown",
   "metadata": {},
   "source": [
    "<a id=\"treebank_dataset\"></a>\n",
    "<h2>The Penn Treebank dataset</h2>\n",
    "Historically, datasets big enough for Natural Language Processing are hard to come by. This is in part due to the necessity of the sentences to be broken down and tagged with a certain degree of correctness -- or else the models trained on it won't be able to be correct at all. This means that we need a <b>large amount of data, annotated by or at least corrected by humans</b>. This is, of course, not an easy task at all.\n",
    "\n",
    "The Penn Treebank, or PTB for short, is a dataset maintained by the University of Pennsylvania. It is <i>huge</i> -- there are over <b>four million and eight hundred thousand</b> annotated words in it, all corrected by humans. It is composed of many different sources, from abstracts of Department of Energy papers to texts from the Library of America. Since it is verifiably correct and of such a huge size, the Penn Treebank is commonly used as a benchmark dataset for Language Modelling.\n",
    "\n",
    "The dataset is divided in different kinds of annotations, such as Piece-of-Speech, Syntactic and Semantic skeletons. For this example, we will simply use a sample of clean, non-annotated words (with the exception of one tag --<code>&lt;unk&gt;</code>\n",
    ", which is used for rare words such as uncommon proper nouns) for our model. This means that we just want to predict what the next words would be, not what they mean in context or their classes on a given sentence.\n",
    "\n",
    "<center>Example of text from the dataset we are going to use, <b>ptb.train</b></center>\n",
    "<br><br>\n",
    "\n",
    "<div class=\"alert alert-block alert-info\" style=\"margin-top: 20px\">\n",
    "    <center>the percentage of lung cancer deaths among the workers at the west <code>&lt;unk&gt;</code> mass. paper factory appears to be the highest for any asbestos workers studied in western industrialized countries he said \n",
    " the plant which is owned by <code>&lt;unk&gt;</code> & <code>&lt;unk&gt;</code> co. was under contract with <code>&lt;unk&gt;</code> to make the cigarette filters \n",
    " the finding probably will support those who argue that the U.S. should regulate the class of asbestos including <code>&lt;unk&gt;</code> more <code>&lt;unk&gt;</code> than the common kind of asbestos <code>&lt;unk&gt;</code> found in most schools and other buildings dr. <code>&lt;unk&gt;</code> said</center>\n",
    "</div>"
   ]
  },
  {
   "cell_type": "markdown",
   "metadata": {
    "button": false,
    "deletable": true,
    "new_sheet": false,
    "run_control": {
     "read_only": false
    }
   },
   "source": [
    "<a id=\"word_embedding\"></a>\n",
    "<h2>Word Embeddings</h2><br/>\n",
    "\n",
    "For better processing, in this example, we will make use of <a href=\"https://www.tensorflow.org/tutorials/word2vec/\"><b>word embeddings</b></a>, which is <b>a way of representing sentence structures or words as n-dimensional vectors (where n is a reasonably high number, such as 200 or 500) of real numbers</b>. Basically, we will assign each word a randomly-initialized vector, and input those into the network to be processed. After a number of iterations, these vectors are expected to assume values that help the network to correctly predict what it needs to -- in our case, the probable next word in the sentence. This is shown to be a very effective task in Natural Language Processing, and is a commonplace practice.\n",
    "<br><br>\n",
    "<font size=\"4\"><strong>\n",
    "$$Vec(\"Example\") = [0.02, 0.00, 0.00, 0.92, 0.30, \\ldots]$$\n",
    "</strong></font>\n",
    "<br>\n",
    "Word Embedding tends to group up similarly used words <i>reasonably</i> close together in the vectorial space. For example, if we use T-SNE (a dimensional reduction visualization algorithm) to flatten the dimensions of our vectors into a 2-dimensional space and plot these words in a 2-dimensional space, we might see something like this:\n",
    "\n",
    "<img src=\"https://ibm.box.com/shared/static/bqhc5dg879gcoabzhxra1w8rkg3od1cu.png\" width=\"800\">\n",
    "<center><i>T-SNE Mockup with clusters marked for easier visualization</i></center>\n",
    "<br><br>\n",
    "As you can see, words that are frequently used together, in place of each other, or in the same places as them tend to be grouped together -- being closer together the higher they are correlated. For example, \"None\" is pretty semantically close to \"Zero\", while a phrase that uses \"Italy\", you could probably also fit \"Germany\" in it, with little damage to the sentence structure. The vectorial \"closeness\" for similar words like this is a great indicator of a well-built model.\n",
    "\n",
    "<hr>\n",
    " "
   ]
  },
  {
   "cell_type": "markdown",
   "metadata": {
    "button": false,
    "deletable": true,
    "new_sheet": false,
    "run_control": {
     "read_only": false
    }
   },
   "source": [
    "We need to import the necessary modules for our code. We need <b><code>numpy</code></b> and <b><code>tensorflow</code></b>, obviously. Additionally, we can import directly the <b><code>tensorflow.models.rnn</code></b> model, which includes the function for building RNNs, and <b><code>tensorflow.models.rnn.ptb.reader</code></b> which is the helper module for getting the input data from the dataset we just downloaded.\n",
    "\n",
    "If you want to learn more take a look at https://github.com/tensorflow/models/blob/master/tutorials/rnn/ptb/reader.py"
   ]
  },
  {
   "cell_type": "code",
   "execution_count": 1,
   "metadata": {
    "button": false,
    "deletable": true,
    "new_sheet": false,
    "run_control": {
     "read_only": false
    }
   },
   "outputs": [],
   "source": [
    "import time\n",
    "import numpy as np\n",
    "import tensorflow as tf"
   ]
  },
  {
   "cell_type": "code",
   "execution_count": 2,
   "metadata": {
    "button": false,
    "deletable": true,
    "new_sheet": false,
    "run_control": {
     "read_only": false
    }
   },
   "outputs": [
    {
     "name": "stdout",
     "output_type": "stream",
     "text": [
      "mkdir: cannot create directory ‘data’: File exists\n",
      "Archive:  data/ptb.zip\n",
      "  inflating: data/ptb/reader.py      \n",
      "  inflating: data/__MACOSX/ptb/._reader.py  \n",
      "  inflating: data/__MACOSX/._ptb     \n"
     ]
    }
   ],
   "source": [
    "!mkdir data\n",
    "!wget -q -O data/ptb.zip https://ibm.box.com/shared/static/z2yvmhbskc45xd2a9a4kkn6hg4g4kj5r.zip\n",
    "!unzip -o data/ptb.zip -d data\n",
    "!cp data/ptb/reader.py .\n",
    "\n",
    "import reader"
   ]
  },
  {
   "cell_type": "markdown",
   "metadata": {
    "button": false,
    "deletable": true,
    "new_sheet": false,
    "run_control": {
     "read_only": false
    }
   },
   "source": [
    "<a id=\"building_lstm_model\"></a>\n",
    "<h2>Building the LSTM model for Language Modeling</h2>\n",
    "Now that we know exactly what we are doing, we can start building our model using TensorFlow. The very first thing we need to do is download and extract the <code>simple-examples</code> dataset, which can be done by executing the code cell below."
   ]
  },
  {
   "cell_type": "code",
   "execution_count": 3,
   "metadata": {
    "button": false,
    "deletable": true,
    "new_sheet": false,
    "run_control": {
     "read_only": false
    }
   },
   "outputs": [
    {
     "name": "stdout",
     "output_type": "stream",
     "text": [
      "--2020-02-29 00:28:22--  http://www.fit.vutbr.cz/~imikolov/rnnlm/simple-examples.tgz\n",
      "Resolving www.fit.vutbr.cz (www.fit.vutbr.cz)... 147.229.9.23, 2001:67c:1220:809::93e5:917\n",
      "Connecting to www.fit.vutbr.cz (www.fit.vutbr.cz)|147.229.9.23|:80... connected.\n",
      "HTTP request sent, awaiting response... 200 OK\n",
      "Length: 34869662 (33M) [application/x-gtar]\n",
      "Saving to: ‘simple-examples.tgz’\n",
      "\n",
      "simple-examples.tgz 100%[===================>]  33.25M  4.03MB/s    in 9.5s    \n",
      "\n",
      "2020-02-29 00:28:32 (3.49 MB/s) - ‘simple-examples.tgz’ saved [34869662/34869662]\n",
      "\n"
     ]
    }
   ],
   "source": [
    "!wget http://www.fit.vutbr.cz/~imikolov/rnnlm/simple-examples.tgz \n",
    "!tar xzf simple-examples.tgz -C data/"
   ]
  },
  {
   "cell_type": "markdown",
   "metadata": {
    "button": false,
    "deletable": true,
    "new_sheet": false,
    "run_control": {
     "read_only": false
    }
   },
   "source": [
    "Additionally, for the sake of making it easy to play around with the model's hyperparameters, we can declare them beforehand. Feel free to change these -- you will see a difference in performance each time you change those!  \n"
   ]
  },
  {
   "cell_type": "code",
   "execution_count": 3,
   "metadata": {
    "button": false,
    "deletable": true,
    "new_sheet": false,
    "run_control": {
     "read_only": false
    }
   },
   "outputs": [],
   "source": [
    "#Initial weight scale\n",
    "init_scale = 0.1\n",
    "#Initial learning rate\n",
    "learning_rate = 1.0\n",
    "#Maximum permissible norm for the gradient (For gradient clipping -- another measure against Exploding Gradients)\n",
    "max_grad_norm = 5\n",
    "#The number of layers in our model\n",
    "num_layers = 2\n",
    "#The total number of recurrence steps, also known as the number of layers when our RNN is \"unfolded\"\n",
    "num_steps = 20\n",
    "#The number of processing units (neurons) in the hidden layers\n",
    "hidden_size_l1 = 256\n",
    "hidden_size_l2 = 128\n",
    "#The maximum number of epochs trained with the initial learning rate\n",
    "max_epoch_decay_lr = 4\n",
    "#The total number of epochs in training\n",
    "max_epoch = 15\n",
    "#The probability for keeping data in the Dropout Layer (This is an optimization, but is outside our scope for this notebook!)\n",
    "#At 1, we ignore the Dropout Layer wrapping.\n",
    "keep_prob = 1\n",
    "#The decay for the learning rate\n",
    "decay = 0.5\n",
    "#The size for each batch of data\n",
    "batch_size = 60\n",
    "#The size of our vocabulary\n",
    "vocab_size = 10000\n",
    "embeding_vector_size = 200\n",
    "#Training flag to separate training from testing\n",
    "is_training = 1\n",
    "#Data directory for our dataset\n",
    "data_dir = \"data/simple-examples/data/\""
   ]
  },
  {
   "cell_type": "markdown",
   "metadata": {
    "button": false,
    "deletable": true,
    "new_sheet": false,
    "run_control": {
     "read_only": false
    }
   },
   "source": [
    "Some clarifications for LSTM architecture based on the arguments:\n",
    "\n",
    "Network structure:\n",
    "<ul>\n",
    "    <li>In this network, the number of LSTM cells are 2. To give the model more expressive power, we can add multiple layers of LSTMs to process the data. The output of the first layer will become the input of the second and so on.\n",
    "    </li>\n",
    "    <li>The recurrence steps is 20, that is, when our RNN is \"Unfolded\", the recurrence step is 20.</li>   \n",
    "    <li>the structure is like:\n",
    "        <ul>\n",
    "            <li>200 input units -> [200x200] Weight -> 200 Hidden units (first layer) -> [200x200] Weight matrix  -> 200 Hidden units (second layer) ->  [200] weight Matrix -> 200 unit output</li>\n",
    "        </ul>\n",
    "    </li>\n",
    "</ul>\n",
    "<br>\n",
    "\n",
    "Input layer: \n",
    "<ul>\n",
    "    <li>The network has 200 input units.</li>\n",
    "    <li>Suppose each word is represented by an embedding vector of dimensionality e=200. The input layer of each cell will have 200 linear units. These e=200 linear units are connected to each of the h=200 LSTM units in the hidden layer (assuming there is only one hidden layer, though our case has 2 layers).\n",
    "    </li>\n",
    "    <li>The input shape is [batch_size, num_steps], that is [60x20]. It will turn into [60x20x200] after embedding, and then 20x[60x200]\n",
    "    </li>\n",
    "</ul>\n",
    "<br>\n",
    "\n",
    "Hidden layer:\n",
    "<ul>\n",
    "    <li>Each LSTM has 200 hidden units which is equivalent to the dimensionality of the embedding words and output.</li>\n",
    "</ul>\n",
    "<br>"
   ]
  },
  {
   "cell_type": "markdown",
   "metadata": {
    "button": false,
    "deletable": true,
    "new_sheet": false,
    "run_control": {
     "read_only": false
    }
   },
   "source": [
    "There is a lot to be done and a ton of information to process at the same time, so go over this code slowly. It may seem complex at first, but if you try to apply what you just learned about language modelling to the code you see, you should be able to understand it.\n",
    "\n",
    "This code is adapted from the <a href=\"https://github.com/tensorflow/models\">PTBModel</a> example bundled with the TensorFlow source code.\n",
    "\n",
    "\n",
    "<h4>Train data</h4>\n",
    "The story starts from data: <b>NOTE: The batch size is now 60</b>\n",
    "<ul>\n",
    "    <li>Train data is a list of words, of size 929589, represented by numbers, e.g. [9971, 9972, 9974, 9975,...]</li>\n",
    "    <li>We read data as mini-batch of size b=30. Assume the size of each sentence is 20 words (num_steps = 20). Then it will take $$floor(\\frac{N}{b \\times h})+1=1548$$ iterations for the learner to go through all sentences once. Where N is the size of the list of words, b is batch size, andh is size of each sentence. So, the number of iterators is 1548\n",
    "    </li>\n",
    "    <li>Each batch data is read from train dataset of size 600, and shape of [30x20]</li>\n",
    "</ul>"
   ]
  },
  {
   "cell_type": "markdown",
   "metadata": {
    "button": false,
    "deletable": true,
    "new_sheet": false,
    "run_control": {
     "read_only": false
    }
   },
   "source": [
    "First we start an interactive session:"
   ]
  },
  {
   "cell_type": "code",
   "execution_count": 4,
   "metadata": {
    "button": false,
    "deletable": true,
    "new_sheet": false,
    "run_control": {
     "read_only": false
    }
   },
   "outputs": [],
   "source": [
    "session = tf.InteractiveSession()"
   ]
  },
  {
   "cell_type": "code",
   "execution_count": 5,
   "metadata": {
    "button": false,
    "deletable": true,
    "new_sheet": false,
    "run_control": {
     "read_only": false
    }
   },
   "outputs": [],
   "source": [
    "# Reads the data and separates it into training data, validation data and testing data\n",
    "raw_data = reader.ptb_raw_data(data_dir)\n",
    "train_data, valid_data, test_data, vocab, word_to_id = raw_data"
   ]
  },
  {
   "cell_type": "code",
   "execution_count": 15,
   "metadata": {},
   "outputs": [
    {
     "name": "stdout",
     "output_type": "stream",
     "text": [
      "['aer', 'banknote', 'berlitz', 'calloway', 'centrust', 'cluett', 'fromstein', 'gitano', 'guterman', 'hydro-quebec', 'ipo', 'kia', 'memotec', 'mlx', 'nahb', 'punts', 'rake', 'regatta', 'rubens', 'sim', 'snack-food', 'ssangyong', 'swapo', 'wachter', '<eos>', 'pierre', '<unk>', 'N', 'years', 'old', 'will', 'join', 'the', 'board', 'as', 'a', 'nonexecutive', 'director', 'nov.', 'N', '<eos>', 'mr.', '<unk>', 'is', 'chairman', 'of', '<unk>', 'n.v.', 'the', 'dutch', 'publishing', 'group', '<eos>', 'rudolph', '<unk>', 'N', 'years', 'old', 'and', 'former', 'chairman', 'of', 'consolidated', 'gold', 'fields', 'plc', 'was', 'named', 'a', 'nonexecutive', 'director', 'of', 'this', 'british', 'industrial', 'conglomerate', '<eos>', 'a', 'form', 'of', 'asbestos', 'once', 'used', 'to', 'make', 'kent', 'cigarette', 'filters', 'has', 'caused', 'a', 'high', 'percentage', 'of', 'cancer', 'deaths', 'among', 'a', 'group', 'of']\n"
     ]
    }
   ],
   "source": [
    "def id_to_word(id_list):\n",
    "    line = []\n",
    "    for w in id_list:\n",
    "        for word, wid in word_to_id.items():\n",
    "            if wid == w:\n",
    "                line.append(word)\n",
    "    return line            \n",
    "                \n",
    "\n",
    "print(id_to_word(train_data[0:100]))"
   ]
  },
  {
   "cell_type": "markdown",
   "metadata": {
    "button": false,
    "deletable": true,
    "new_sheet": false,
    "run_control": {
     "read_only": false
    }
   },
   "source": [
    "Lets just read one mini-batch now and feed our network:"
   ]
  },
  {
   "cell_type": "code",
   "execution_count": 16,
   "metadata": {
    "button": false,
    "deletable": true,
    "new_sheet": false,
    "run_control": {
     "read_only": false
    }
   },
   "outputs": [],
   "source": [
    "itera = reader.ptb_iterator(train_data, batch_size, num_steps)\n",
    "first_touple = itera.__next__()\n",
    "x = first_toupl`e[0]\n",
    "y = first_touple[1]"
   ]
  },
  {
   "cell_type": "code",
   "execution_count": 17,
   "metadata": {
    "button": false,
    "deletable": true,
    "new_sheet": false,
    "run_control": {
     "read_only": false
    }
   },
   "outputs": [
    {
     "data": {
      "text/plain": [
       "(60, 20)"
      ]
     },
     "execution_count": 17,
     "metadata": {},
     "output_type": "execute_result"
    }
   ],
   "source": [
    "x.shape"
   ]
  },
  {
   "cell_type": "markdown",
   "metadata": {
    "button": false,
    "deletable": true,
    "new_sheet": false,
    "run_control": {
     "read_only": false
    }
   },
   "source": [
    "Lets look at 3 sentences of our input x:"
   ]
  },
  {
   "cell_type": "code",
   "execution_count": 23,
   "metadata": {
    "button": false,
    "deletable": true,
    "new_sheet": false,
    "run_control": {
     "read_only": false
    }
   },
   "outputs": [
    {
     "data": {
      "text/plain": [
       "array([[9970, 9971, 9972, 9974, 9975, 9976, 9980, 9981, 9982, 9983, 9984,\n",
       "        9986, 9987, 9988, 9989, 9991, 9992, 9993, 9994, 9995],\n",
       "       [ 901,   33, 3361,    8, 1279,  437,  597,    6,  261, 4276, 1089,\n",
       "           8, 2836,    2,  269,    4, 5526,  241,   13, 2420],\n",
       "       [2654,    6,  334, 2886,    4,    1,  233,  711,  834,   11,  130,\n",
       "         123,    7,  514,    2,   63,   10,  514,    8,  605]],\n",
       "      dtype=int32)"
      ]
     },
     "execution_count": 23,
     "metadata": {},
     "output_type": "execute_result"
    }
   ],
   "source": [
    "x[0:3]"
   ]
  },
  {
   "cell_type": "markdown",
   "metadata": {
    "button": false,
    "deletable": true,
    "new_sheet": false,
    "run_control": {
     "read_only": false
    }
   },
   "source": [
    "we define 2 place holders to feed them with mini-batchs, that is x and y:"
   ]
  },
  {
   "cell_type": "code",
   "execution_count": 26,
   "metadata": {
    "button": false,
    "deletable": true,
    "new_sheet": false,
    "run_control": {
     "read_only": false
    }
   },
   "outputs": [],
   "source": [
    "_input_data = tf.placeholder(tf.int32, [batch_size, num_steps]) #[30#20]\n",
    "_targets = tf.placeholder(tf.int32, [batch_size, num_steps]) #[30#20]"
   ]
  },
  {
   "cell_type": "markdown",
   "metadata": {
    "button": false,
    "deletable": true,
    "new_sheet": false,
    "run_control": {
     "read_only": false
    }
   },
   "source": [
    "Lets define a dictionary, and use it later to feed the placeholders with our first mini-batch:"
   ]
  },
  {
   "cell_type": "code",
   "execution_count": 29,
   "metadata": {
    "button": false,
    "deletable": true,
    "new_sheet": false,
    "run_control": {
     "read_only": false
    }
   },
   "outputs": [],
   "source": [
    "feed_dict = {_input_data:x, _targets:y}"
   ]
  },
  {
   "cell_type": "markdown",
   "metadata": {
    "button": false,
    "deletable": true,
    "new_sheet": false,
    "run_control": {
     "read_only": false
    }
   },
   "source": [
    "For example, we can use it to feed <code>\\_input\\_data</code>:"
   ]
  },
  {
   "cell_type": "code",
   "execution_count": 30,
   "metadata": {
    "button": false,
    "deletable": true,
    "new_sheet": false,
    "run_control": {
     "read_only": false
    }
   },
   "outputs": [
    {
     "data": {
      "text/plain": [
       "array([[9970, 9971, 9972, ..., 9993, 9994, 9995],\n",
       "       [ 901,   33, 3361, ...,  241,   13, 2420],\n",
       "       [2654,    6,  334, ...,  514,    8,  605],\n",
       "       ...,\n",
       "       [7831,   36, 1678, ...,    4, 4558,  157],\n",
       "       [  59, 2070, 2433, ...,  400,    1, 1173],\n",
       "       [2097,    3,    2, ..., 2043,   23,    1]], dtype=int32)"
      ]
     },
     "execution_count": 30,
     "metadata": {},
     "output_type": "execute_result"
    }
   ],
   "source": [
    "session.run(_input_data, feed_dict)"
   ]
  },
  {
   "cell_type": "markdown",
   "metadata": {
    "button": false,
    "deletable": true,
    "new_sheet": false,
    "run_control": {
     "read_only": false
    }
   },
   "source": [
    "In this step, we create the stacked LSTM, which is a 2 layer LSTM network:"
   ]
  },
  {
   "cell_type": "code",
   "execution_count": 33,
   "metadata": {
    "button": false,
    "deletable": true,
    "new_sheet": false,
    "run_control": {
     "read_only": false
    }
   },
   "outputs": [],
   "source": [
    "lstm_cell_l1 = tf.contrib.rnn.BasicLSTMCell(hidden_size_l1, forget_bias=0.0)\n",
    "lstm_cell_l2 = tf.contrib.rnn.BasicLSTMCell(hidden_size_l2, forget_bias=0.0)\n",
    "stacked_lstm = tf.contrib.rnn.MultiRNNCell([lstm_cell_l1, lstm_cell_l2])"
   ]
  },
  {
   "cell_type": "markdown",
   "metadata": {
    "button": false,
    "deletable": true,
    "new_sheet": false,
    "run_control": {
     "read_only": false
    }
   },
   "source": [
    "Also, we initialize the states of the nework:\n",
    "\n",
    "<h4>_initial_state</h4>\n",
    "\n",
    "For each LCTM, there are 2 state matrices, c\\_state and m\\_state.  c_state and m_state represent \"Memory State\" and \"Cell State\". Each hidden layer, has a vector of size 30, which keeps the states. so, for 200 hidden units in each LSTM, we have a matrix of size [30x200]"
   ]
  },
  {
   "cell_type": "code",
   "execution_count": 35,
   "metadata": {
    "button": false,
    "deletable": true,
    "new_sheet": false,
    "run_control": {
     "read_only": false
    }
   },
   "outputs": [
    {
     "data": {
      "text/plain": [
       "(LSTMStateTuple(c=<tf.Tensor 'MultiRNNCellZeroState/BasicLSTMCellZeroState/zeros:0' shape=(60, 256) dtype=float32>, h=<tf.Tensor 'MultiRNNCellZeroState/BasicLSTMCellZeroState/zeros_1:0' shape=(60, 256) dtype=float32>),\n",
       " LSTMStateTuple(c=<tf.Tensor 'MultiRNNCellZeroState/BasicLSTMCellZeroState_1/zeros:0' shape=(60, 128) dtype=float32>, h=<tf.Tensor 'MultiRNNCellZeroState/BasicLSTMCellZeroState_1/zeros_1:0' shape=(60, 128) dtype=float32>))"
      ]
     },
     "execution_count": 35,
     "metadata": {},
     "output_type": "execute_result"
    }
   ],
   "source": [
    "_initial_state = stacked_lstm.zero_state(batch_size, tf.float32)\n",
    "_initial_state"
   ]
  },
  {
   "cell_type": "markdown",
   "metadata": {
    "button": false,
    "deletable": true,
    "new_sheet": false,
    "run_control": {
     "read_only": false
    }
   },
   "source": [
    "Lets look at the states, though they are all zero for now:"
   ]
  },
  {
   "cell_type": "code",
   "execution_count": 71,
   "metadata": {
    "button": false,
    "deletable": true,
    "new_sheet": false,
    "run_control": {
     "read_only": false
    }
   },
   "outputs": [
    {
     "data": {
      "text/plain": [
       "(LSTMStateTuple(c=array([[0., 0., 0., ..., 0., 0., 0.],\n",
       "        [0., 0., 0., ..., 0., 0., 0.],\n",
       "        [0., 0., 0., ..., 0., 0., 0.],\n",
       "        ...,\n",
       "        [0., 0., 0., ..., 0., 0., 0.],\n",
       "        [0., 0., 0., ..., 0., 0., 0.],\n",
       "        [0., 0., 0., ..., 0., 0., 0.]], dtype=float32), h=array([[0., 0., 0., ..., 0., 0., 0.],\n",
       "        [0., 0., 0., ..., 0., 0., 0.],\n",
       "        [0., 0., 0., ..., 0., 0., 0.],\n",
       "        ...,\n",
       "        [0., 0., 0., ..., 0., 0., 0.],\n",
       "        [0., 0., 0., ..., 0., 0., 0.],\n",
       "        [0., 0., 0., ..., 0., 0., 0.]], dtype=float32)),\n",
       " LSTMStateTuple(c=array([[0., 0., 0., ..., 0., 0., 0.],\n",
       "        [0., 0., 0., ..., 0., 0., 0.],\n",
       "        [0., 0., 0., ..., 0., 0., 0.],\n",
       "        ...,\n",
       "        [0., 0., 0., ..., 0., 0., 0.],\n",
       "        [0., 0., 0., ..., 0., 0., 0.],\n",
       "        [0., 0., 0., ..., 0., 0., 0.]], dtype=float32), h=array([[0., 0., 0., ..., 0., 0., 0.],\n",
       "        [0., 0., 0., ..., 0., 0., 0.],\n",
       "        [0., 0., 0., ..., 0., 0., 0.],\n",
       "        ...,\n",
       "        [0., 0., 0., ..., 0., 0., 0.],\n",
       "        [0., 0., 0., ..., 0., 0., 0.],\n",
       "        [0., 0., 0., ..., 0., 0., 0.]], dtype=float32)))"
      ]
     },
     "execution_count": 71,
     "metadata": {},
     "output_type": "execute_result"
    }
   ],
   "source": [
    "session.run(_initial_state)"
   ]
  },
  {
   "cell_type": "markdown",
   "metadata": {
    "button": false,
    "deletable": true,
    "new_sheet": false,
    "run_control": {
     "read_only": false
    }
   },
   "source": [
    "<h3>Embeddings</h3>\n",
    "We have to convert the words in our dataset to vectors of numbers. The traditional approach is to use one-hot encoding method that is usually used for converting categorical values to numerical values. However, One-hot encoded vectors are high-dimensional, sparse and in a big dataset, computationally inefficient. So, we use word2vec approach. It is, in fact, a layer in our LSTM network, where the word IDs will be represented as a dense representation before feeding to the LSTM. \n",
    "\n",
    "The embedded vectors also get updated during the training process of the deep neural network.\n",
    "We create the embeddings for our input data. <b>embedding_vocab</b> is matrix of [10000x200] for all 10000 unique words."
   ]
  },
  {
   "cell_type": "code",
   "execution_count": 48,
   "metadata": {
    "button": false,
    "deletable": true,
    "new_sheet": false,
    "run_control": {
     "read_only": false
    }
   },
   "outputs": [],
   "source": [
    "embedding_vocab = tf.get_variable(\"embedding_vocab\", [vocab_size, embeding_vector_size])  #[10000x200]"
   ]
  },
  {
   "cell_type": "markdown",
   "metadata": {
    "button": false,
    "deletable": true,
    "new_sheet": false,
    "run_control": {
     "read_only": false
    }
   },
   "source": [
    "<b>embedding_lookup()</b> finds the embedded values for our batch of 60x20 words. It  goes to each row of <code>input_data</code>, and for each word in the row/sentence, finds the correspond vector in <code>embedding_dic<code>. <br>\n",
    "It creates a [60x20x200] tensor, so, the first element of <b>inputs</b> (the first sentence), is a matrix of 20x200, which each row of it, is vector representing a word in the sentence."
   ]
  },
  {
   "cell_type": "code",
   "execution_count": 51,
   "metadata": {
    "button": false,
    "deletable": true,
    "new_sheet": false,
    "run_control": {
     "read_only": false
    }
   },
   "outputs": [
    {
     "data": {
      "text/plain": [
       "<tf.Tensor 'embedding_lookup:0' shape=(60, 20, 200) dtype=float32>"
      ]
     },
     "execution_count": 51,
     "metadata": {},
     "output_type": "execute_result"
    }
   ],
   "source": [
    "# Define where to get the data for our embeddings from. I.e. construct the embedded input data\n",
    "inputs = tf.nn.embedding_lookup(embedding_vocab, _input_data)  #shape=(60, 20, 200) \n",
    "inputs"
   ]
  },
  {
   "cell_type": "markdown",
   "metadata": {
    "button": false,
    "deletable": true,
    "new_sheet": false,
    "run_control": {
     "read_only": false
    }
   },
   "source": [
    "<h3>Constructing Recurrent Neural Networks</h3>\n",
    "<b>tf.nn.dynamic_rnn()</b> creates a recurrent neural network using <b>stacked_lstm</b>. \n",
    "\n",
    "The input should be a Tensor of shape: [batch_size, max_time, embedding_vector_size], in our case it would be (30, 20, 200)\n",
    "\n",
    "This method, returns a pair (outputs, new_state) where:\n",
    "<ul>\n",
    "    <li><b>outputs</b>: is a length T list of outputs (one for each input), or a nested tuple of such elements.</li>\n",
    "    <li><b>new_state</b>: is the final state.</li>\n",
    "</ul>"
   ]
  },
  {
   "cell_type": "code",
   "execution_count": 62,
   "metadata": {
    "button": false,
    "deletable": true,
    "new_sheet": false,
    "run_control": {
     "read_only": false
    },
    "scrolled": true
   },
   "outputs": [],
   "source": [
    "outputs, new_state =  tf.nn.dynamic_rnn(stacked_lstm, inputs, initial_state=_initial_state)"
   ]
  },
  {
   "cell_type": "markdown",
   "metadata": {
    "button": false,
    "deletable": true,
    "new_sheet": false,
    "run_control": {
     "read_only": false
    }
   },
   "source": [
    "so, lets look at the outputs. The output of the stackedLSTM comes from 200 hidden_layer, and in each time step(=20), one of them get activated. we use the linear activation to map the 200 hidden layer to a [?x10 matrix]"
   ]
  },
  {
   "cell_type": "code",
   "execution_count": 92,
   "metadata": {
    "button": false,
    "deletable": true,
    "new_sheet": false,
    "run_control": {
     "read_only": false
    }
   },
   "outputs": [
    {
     "data": {
      "text/plain": [
       "<tf.Tensor 'rnn/transpose_1:0' shape=(60, 20, 128) dtype=float32>"
      ]
     },
     "execution_count": 92,
     "metadata": {},
     "output_type": "execute_result"
    }
   ],
   "source": [
    "outputs"
   ]
  },
  {
   "cell_type": "code",
   "execution_count": 93,
   "metadata": {
    "button": false,
    "deletable": true,
    "new_sheet": false,
    "run_control": {
     "read_only": false
    }
   },
   "outputs": [
    {
     "data": {
      "text/plain": [
       "array([[-2.4285330e-04, -6.0026121e-04,  2.4645678e-05, ...,\n",
       "         1.6524621e-04,  1.3676115e-04, -1.2549039e-04],\n",
       "       [-2.2214827e-04, -1.1182525e-03,  1.1112423e-05, ...,\n",
       "         3.4447538e-04,  1.2277138e-04, -2.6792547e-04],\n",
       "       [-3.5605900e-04, -5.9629395e-04, -2.2696947e-04, ...,\n",
       "        -9.9164845e-07, -4.1214569e-04, -8.6327933e-04],\n",
       "       ...,\n",
       "       [ 4.5237856e-04,  3.0043343e-04, -9.3792041e-04, ...,\n",
       "        -1.9582795e-04,  3.9315945e-04,  1.9138180e-04],\n",
       "       [-2.1025212e-04,  3.6966521e-04, -5.3023105e-04, ...,\n",
       "        -1.2035016e-04,  1.9544056e-04, -1.7368924e-04],\n",
       "       [-7.6225813e-04,  2.6290570e-04, -9.8913931e-04, ...,\n",
       "         1.1628195e-05,  2.2953846e-04, -6.0415547e-04]], dtype=float32)"
      ]
     },
     "execution_count": 93,
     "metadata": {},
     "output_type": "execute_result"
    }
   ],
   "source": [
    "session.run(tf.global_variables_initializer())\n",
    "session.run(outputs[0], feed_dict)"
   ]
  },
  {
   "cell_type": "markdown",
   "metadata": {
    "button": false,
    "deletable": true,
    "new_sheet": false,
    "run_control": {
     "read_only": false
    }
   },
   "source": [
    "we need to flatten the outputs to be able to connect it softmax layer. Lets reshape the output tensor from  [60 x 20 x 200] to [1200 x 200].\n",
    "\n",
    "<b>Notice:</b> Imagine our output is 3-d tensor as following (of course each <code>sen_x_word_y</code> is a an embedded vector by itself): \n",
    "<ul>\n",
    "    <li>sentence 1: [[sen1word1], [sen1word2], [sen1word3], ..., [sen1word20]]</li> \n",
    "    <li>sentence 2: [[sen2word1], [sen2word2], [sen2word3], ..., [sen2word20]]</li>   \n",
    "    <li>sentence 3: [[sen3word1], [sen3word2], [sen3word3], ..., [sen3word20]]</li>  \n",
    "    <li>...  </li>\n",
    "    <li>sentence 60: [[sen60word1], [sen60word2], [sen60word3], ..., [sen60word20]]</li>   \n",
    "</ul>\n",
    "Now, the flatten would convert this 3-dim tensor to:\n",
    "\n",
    "[ [sen1word1], [sen1word2], [sen1word3], ..., [sen1word20],[sen2word1], [sen2word2], [sen2word3], ..., [sen2word20], ..., [sen60word20] ]\n"
   ]
  },
  {
   "cell_type": "code",
   "execution_count": 96,
   "metadata": {
    "button": false,
    "deletable": true,
    "new_sheet": false,
    "run_control": {
     "read_only": false
    }
   },
   "outputs": [
    {
     "data": {
      "text/plain": [
       "<tf.Tensor 'Reshape:0' shape=(1200, 128) dtype=float32>"
      ]
     },
     "execution_count": 96,
     "metadata": {},
     "output_type": "execute_result"
    }
   ],
   "source": [
    "output = tf.reshape(outputs, [-1, hidden_size_l2])\n",
    "output"
   ]
  },
  {
   "cell_type": "markdown",
   "metadata": {
    "button": false,
    "deletable": true,
    "new_sheet": false,
    "run_control": {
     "read_only": false
    }
   },
   "source": [
    "<h3>logistic unit</h3>\n",
    "Now, we create a logistic unit to return the probability of the output word in our vocabulary with 10000 words. \n",
    "\n",
    "$$Softmax = [1200 \\times 200] * [200 \\times 10000] + [1 \\times 10000] \\Longrightarrow [1200 \\times 10000]$$"
   ]
  },
  {
   "cell_type": "code",
   "execution_count": 100,
   "metadata": {
    "button": false,
    "deletable": true,
    "new_sheet": false,
    "run_control": {
     "read_only": false
    }
   },
   "outputs": [],
   "source": [
    "softmax_w = tf.get_variable(\"softmax_w\", [hidden_size_l2, vocab_size]) #[200x10000]\n",
    "softmax_b = tf.get_variable(\"softmax_b\", [vocab_size]) #[1x10000]\n",
    "logits = tf.matmul(output, softmax_w) + softmax_b\n",
    "prob = tf.nn.softmax(logits)"
   ]
  },
  {
   "cell_type": "markdown",
   "metadata": {},
   "source": [
    "Lets look at the probability of observing words for t=0 to t=20:"
   ]
  },
  {
   "cell_type": "code",
   "execution_count": 102,
   "metadata": {
    "button": false,
    "deletable": true,
    "new_sheet": false,
    "run_control": {
     "read_only": false
    }
   },
   "outputs": [
    {
     "name": "stdout",
     "output_type": "stream",
     "text": [
      "shape of the output:  (1200, 10000)\n",
      "The probability of observing words in t=0 to t=20 [[9.96447852e-05 9.94184666e-05 1.01675003e-04 ... 9.91598572e-05\n",
      "  9.94456059e-05 9.84428334e-05]\n",
      " [9.96456438e-05 9.94225993e-05 1.01661048e-04 ... 9.91590568e-05\n",
      "  9.94474249e-05 9.84391518e-05]\n",
      " [9.96460294e-05 9.94307993e-05 1.01669575e-04 ... 9.91630586e-05\n",
      "  9.94343864e-05 9.84329745e-05]\n",
      " ...\n",
      " [9.96505551e-05 9.94182337e-05 1.01670448e-04 ... 9.91634661e-05\n",
      "  9.94422735e-05 9.84472426e-05]\n",
      " [9.96430608e-05 9.94232760e-05 1.01674181e-04 ... 9.91642664e-05\n",
      "  9.94442598e-05 9.84395738e-05]\n",
      " [9.96234448e-05 9.94239745e-05 1.01680867e-04 ... 9.91633424e-05\n",
      "  9.94433140e-05 9.84347207e-05]]\n"
     ]
    }
   ],
   "source": [
    "session.run(tf.global_variables_initializer())\n",
    "output_words_prob = session.run(prob, feed_dict)\n",
    "print(\"shape of the output: \", output_words_prob.shape)\n",
    "print(\"The probability of observing words in t=0 to t=20\", output_words_prob[0:20])"
   ]
  },
  {
   "cell_type": "markdown",
   "metadata": {
    "button": false,
    "deletable": true,
    "new_sheet": false,
    "run_control": {
     "read_only": false
    }
   },
   "source": [
    "<h3>Prediction</h3>\n",
    "What is the word correspond to the probability output? Lets use the maximum probability:"
   ]
  },
  {
   "cell_type": "code",
   "execution_count": 105,
   "metadata": {
    "button": false,
    "deletable": true,
    "new_sheet": false,
    "run_control": {
     "read_only": false
    }
   },
   "outputs": [
    {
     "data": {
      "text/plain": [
       "array([7033, 2151, 7699, 2151, 6049, 6110, 6961, 6961, 6110,  579, 2244,\n",
       "       1573, 1573, 1573, 7114, 7114, 2465, 8221, 8221, 9542])"
      ]
     },
     "execution_count": 105,
     "metadata": {},
     "output_type": "execute_result"
    }
   ],
   "source": [
    "np.argmax(output_words_prob[0:20], axis=1)"
   ]
  },
  {
   "cell_type": "markdown",
   "metadata": {
    "button": false,
    "deletable": true,
    "new_sheet": false,
    "run_control": {
     "read_only": false
    }
   },
   "source": [
    "So, what is the ground truth for the first word of first sentence? "
   ]
  },
  {
   "cell_type": "code",
   "execution_count": 109,
   "metadata": {
    "button": false,
    "deletable": true,
    "new_sheet": false,
    "run_control": {
     "read_only": false
    }
   },
   "outputs": [
    {
     "data": {
      "text/plain": [
       "array([9971, 9972, 9974, 9975, 9976, 9980, 9981, 9982, 9983, 9984, 9986,\n",
       "       9987, 9988, 9989, 9991, 9992, 9993, 9994, 9995, 9996], dtype=int32)"
      ]
     },
     "execution_count": 109,
     "metadata": {},
     "output_type": "execute_result"
    }
   ],
   "source": [
    "y[0]"
   ]
  },
  {
   "cell_type": "markdown",
   "metadata": {
    "button": false,
    "deletable": true,
    "new_sheet": false,
    "run_control": {
     "read_only": false
    }
   },
   "source": [
    "Also, you can get it from target tensor, if you want to find the embedding vector:"
   ]
  },
  {
   "cell_type": "code",
   "execution_count": 110,
   "metadata": {
    "button": false,
    "deletable": true,
    "new_sheet": false,
    "run_control": {
     "read_only": false
    }
   },
   "outputs": [
    {
     "data": {
      "text/plain": [
       "array([9971, 9972, 9974, 9975, 9976, 9980, 9981, 9982, 9983, 9984, 9986,\n",
       "       9987, 9988, 9989, 9991, 9992, 9993, 9994, 9995, 9996], dtype=int32)"
      ]
     },
     "execution_count": 110,
     "metadata": {},
     "output_type": "execute_result"
    }
   ],
   "source": [
    "targ = session.run(_targets, feed_dict) \n",
    "targ[0]"
   ]
  },
  {
   "cell_type": "markdown",
   "metadata": {},
   "source": [
    "How similar the predicted words are to the target words?"
   ]
  },
  {
   "cell_type": "markdown",
   "metadata": {
    "button": false,
    "deletable": true,
    "new_sheet": false,
    "run_control": {
     "read_only": false
    }
   },
   "source": [
    "<h4>Objective function</h4>\n",
    "\n",
    "Now we have to define our objective function, to calculate the similarity of predicted values to ground truth, and then, penalize the model with the error. Our objective is to minimize loss function, that is, to minimize the average negative log probability of the target words:\n",
    "\n",
    "$$\\text{loss} = -\\frac{1}{N}\\sum_{i=1}^{N} \\ln p_{\\text{target}_i}$$\n",
    "\n",
    "This function is already implemented and available in TensorFlow through <b>sequence_loss_by_example</b>. It calculates the weighted cross-entropy loss for <b>logits</b> and the <b>target</b> sequence.  \n",
    "\n",
    "The arguments of this function are:  \n",
    "<ul>\n",
    "    <li>logits: List of 2D Tensors of shape [batch_size x num_decoder_symbols].</li>  \n",
    "    <li>targets: List of 1D batch-sized int32 Tensors of the same length as logits.</li>   \n",
    "    <li>weights: List of 1D batch-sized float-Tensors of the same length as logits.</li> \n",
    "</ul>"
   ]
  },
  {
   "cell_type": "code",
   "execution_count": 118,
   "metadata": {
    "button": false,
    "deletable": true,
    "new_sheet": false,
    "run_control": {
     "read_only": false
    }
   },
   "outputs": [],
   "source": [
    "# There we set the weights to all ones\n",
    "loss = tf.contrib.legacy_seq2seq.sequence_loss_by_example([logits], [tf.reshape(_targets, [-1])],[tf.ones([batch_size * num_steps])])"
   ]
  },
  {
   "cell_type": "markdown",
   "metadata": {
    "button": false,
    "deletable": true,
    "new_sheet": false,
    "run_control": {
     "read_only": false
    }
   },
   "source": [
    "loss is a 1D batch-sized float Tensor [1200x1]: The log-perplexity for each sequence. Lets look at the first 10 values of loss:"
   ]
  },
  {
   "cell_type": "code",
   "execution_count": 126,
   "metadata": {
    "button": false,
    "deletable": true,
    "new_sheet": false,
    "run_control": {
     "read_only": false
    }
   },
   "outputs": [
    {
     "data": {
      "text/plain": [
       "array([9.194739, 9.227651, 9.209609, 9.207912, 9.203433, 9.213476,\n",
       "       9.220358, 9.19891 , 9.224243, 9.227246], dtype=float32)"
      ]
     },
     "execution_count": 126,
     "metadata": {},
     "output_type": "execute_result"
    }
   ],
   "source": [
    "session.run(loss, feed_dict)[:10]"
   ]
  },
  {
   "cell_type": "markdown",
   "metadata": {},
   "source": [
    "Now, we define loss as average of the losses:"
   ]
  },
  {
   "cell_type": "code",
   "execution_count": 121,
   "metadata": {
    "button": false,
    "deletable": true,
    "new_sheet": false,
    "run_control": {
     "read_only": false
    }
   },
   "outputs": [
    {
     "data": {
      "text/plain": [
       "184.1682"
      ]
     },
     "execution_count": 121,
     "metadata": {},
     "output_type": "execute_result"
    }
   ],
   "source": [
    "cost = tf.reduce_sum(loss) / batch_size\n",
    "session.run(tf.global_variables_initializer())\n",
    "session.run(cost, feed_dict)"
   ]
  },
  {
   "cell_type": "markdown",
   "metadata": {
    "button": false,
    "deletable": true,
    "new_sheet": false,
    "run_control": {
     "read_only": false
    }
   },
   "source": [
    "<h3>Training</h3>\n",
    "\n",
    "To do training for our network, we have to take the following steps:\n",
    "<ol>\n",
    "    <li>Define the optimizer.</li>\n",
    "    <li>Extract variables that are trainable.</li>\n",
    "    <li>Calculate the gradients based on the loss function.</li>\n",
    "    <li>Apply the optimizer to the variables/gradients tuple.</li>\n",
    "</ol>"
   ]
  },
  {
   "cell_type": "markdown",
   "metadata": {
    "button": false,
    "deletable": true,
    "new_sheet": false,
    "run_control": {
     "read_only": false
    }
   },
   "source": [
    "<h4>1. Define Optimizer</h4>\n",
    "\n",
    "<b>GradientDescentOptimizer</b> constructs a new gradient descent optimizer. Later, we use constructed <b>optimizer</b> to compute gradients for a loss and apply gradients to variables."
   ]
  },
  {
   "cell_type": "code",
   "execution_count": 128,
   "metadata": {
    "button": false,
    "deletable": true,
    "new_sheet": false,
    "run_control": {
     "read_only": false
    }
   },
   "outputs": [],
   "source": [
    "# Create a variable for the learning rate\n",
    "lr = tf.Variable(0.0, trainable=False)\n",
    "# Create the gradient descent optimizer with our learning rate\n",
    "optimizer = tf.train.GradientDescentOptimizer(lr)"
   ]
  },
  {
   "cell_type": "markdown",
   "metadata": {
    "button": false,
    "deletable": true,
    "new_sheet": false,
    "run_control": {
     "read_only": false
    }
   },
   "source": [
    "\n",
    "<h4>2. Trainable Variables</h4>"
   ]
  },
  {
   "cell_type": "markdown",
   "metadata": {
    "button": false,
    "deletable": true,
    "new_sheet": false,
    "run_control": {
     "read_only": false
    }
   },
   "source": [
    "Defining a variable, if you passed <i>trainable=True</i>, the variable constructor automatically adds new variables to the graph collection <b>GraphKeys.TRAINABLE_VARIABLES</b>. Now, using <i>tf.trainable_variables()</i> you can get all variables created with <b>trainable=True</b>."
   ]
  },
  {
   "cell_type": "code",
   "execution_count": 129,
   "metadata": {
    "button": false,
    "deletable": true,
    "new_sheet": false,
    "run_control": {
     "read_only": false
    }
   },
   "outputs": [
    {
     "data": {
      "text/plain": [
       "[<tf.Variable 'embedding_vocab:0' shape=(10000, 200) dtype=float32_ref>,\n",
       " <tf.Variable 'rnn/multi_rnn_cell/cell_0/basic_lstm_cell/kernel:0' shape=(456, 1024) dtype=float32_ref>,\n",
       " <tf.Variable 'rnn/multi_rnn_cell/cell_0/basic_lstm_cell/bias:0' shape=(1024,) dtype=float32_ref>,\n",
       " <tf.Variable 'rnn/multi_rnn_cell/cell_1/basic_lstm_cell/kernel:0' shape=(384, 512) dtype=float32_ref>,\n",
       " <tf.Variable 'rnn/multi_rnn_cell/cell_1/basic_lstm_cell/bias:0' shape=(512,) dtype=float32_ref>,\n",
       " <tf.Variable 'softmax_w:0' shape=(128, 10000) dtype=float32_ref>,\n",
       " <tf.Variable 'softmax_b:0' shape=(10000,) dtype=float32_ref>]"
      ]
     },
     "execution_count": 129,
     "metadata": {},
     "output_type": "execute_result"
    }
   ],
   "source": [
    "# Get all TensorFlow variables marked as \"trainable\" (i.e. all of them except _lr, which we just created)\n",
    "tvars = tf.trainable_variables()\n",
    "tvars"
   ]
  },
  {
   "cell_type": "code",
   "execution_count": 143,
   "metadata": {},
   "outputs": [
    {
     "name": "stdout",
     "output_type": "stream",
     "text": [
      "LSTM_1 hidden units: 256.0\n",
      "LSTM_2 hidden units: 128.0\n"
     ]
    }
   ],
   "source": [
    "# forget gate, information gate, gain gate, output gate are combined as one weight matrix,\n",
    "# Also,\n",
    "#   For the 1st LSTM: Hidden state (1, 256), input matrix (1, 200), then first dim of weight is 256+200=456\n",
    "#   For the 2nd LSTM: Hidden state (1, 128), input maxtrix (1, 256), then 128+256=384\n",
    "print(\"LSTM_1 hidden units:\", 1024/4)\n",
    "print(\"LSTM_2 hidden units:\", 512/4)"
   ]
  },
  {
   "cell_type": "markdown",
   "metadata": {
    "button": false,
    "deletable": true,
    "new_sheet": false,
    "run_control": {
     "read_only": false
    }
   },
   "source": [
    "Note: we can find the name and scope of all variables:"
   ]
  },
  {
   "cell_type": "code",
   "execution_count": 148,
   "metadata": {
    "button": false,
    "deletable": true,
    "new_sheet": false,
    "run_control": {
     "read_only": false
    }
   },
   "outputs": [
    {
     "data": {
      "text/plain": [
       "['embedding_vocab:0',\n",
       " 'rnn/multi_rnn_cell/cell_0/basic_lstm_cell/kernel:0',\n",
       " 'rnn/multi_rnn_cell/cell_0/basic_lstm_cell/bias:0',\n",
       " 'rnn/multi_rnn_cell/cell_1/basic_lstm_cell/kernel:0',\n",
       " 'rnn/multi_rnn_cell/cell_1/basic_lstm_cell/bias:0',\n",
       " 'softmax_w:0',\n",
       " 'softmax_b:0']"
      ]
     },
     "execution_count": 148,
     "metadata": {},
     "output_type": "execute_result"
    }
   ],
   "source": [
    "[v.name for v in tvars]"
   ]
  },
  {
   "cell_type": "markdown",
   "metadata": {
    "button": false,
    "deletable": true,
    "new_sheet": false,
    "run_control": {
     "read_only": false
    }
   },
   "source": [
    "<h4>3. Calculate the gradients based on the loss function</h4>"
   ]
  },
  {
   "cell_type": "markdown",
   "metadata": {
    "button": false,
    "deletable": true,
    "new_sheet": false,
    "run_control": {
     "read_only": false
    }
   },
   "source": [
    "<h4>Gradient</h4>:\n",
    "The gradient of a function is the slope of its derivative (line), or in other words, the rate of change of a function. It's a vector (a direction to move) that points in the direction of greatest increase of the function, and calculated by the <b>derivative</b> operation.\n",
    "\n",
    "First lets recall the gradient function using an toy example:\n",
    "$$ z = \\left(2x^2 + 3xy\\right)$$"
   ]
  },
  {
   "cell_type": "code",
   "execution_count": 149,
   "metadata": {
    "button": false,
    "deletable": true,
    "new_sheet": false,
    "run_control": {
     "read_only": false
    }
   },
   "outputs": [
    {
     "data": {
      "text/plain": [
       "8.0"
      ]
     },
     "execution_count": 149,
     "metadata": {},
     "output_type": "execute_result"
    }
   ],
   "source": [
    "var_x = tf.placeholder(tf.float32)\n",
    "var_y = tf.placeholder(tf.float32) \n",
    "func_test = 2.0 * var_x * var_x + 3.0 * var_x * var_y\n",
    "session.run(tf.global_variables_initializer())\n",
    "session.run(func_test, {var_x:1.0,var_y:2.0})"
   ]
  },
  {
   "cell_type": "markdown",
   "metadata": {
    "button": false,
    "deletable": true,
    "new_sheet": false,
    "run_control": {
     "read_only": false
    }
   },
   "source": [
    "The <b>tf.gradients()</b> function allows you to compute the symbolic gradient of one tensor with respect to one or more other tensors—including variables. <b>tf.gradients(func, xs)</b> constructs symbolic partial derivatives of sum of <b>func</b> w.r.t. <i>x</i> in <b>xs</b>. \n",
    "\n",
    "Now, lets look at the derivitive w.r.t. <b>var_x</b>:\n",
    "$$ \\frac{\\partial \\:}{\\partial \\:x}\\left(2x^2 + 3xy\\right) = 4x + 3y $$\n"
   ]
  },
  {
   "cell_type": "markdown",
   "metadata": {
    "button": false,
    "deletable": true,
    "new_sheet": false,
    "run_control": {
     "read_only": false
    }
   },
   "source": [
    "the derivative w.r.t. <b>var_y</b>:\n",
    "$$ \\frac{\\partial \\:}{\\partial \\:x}\\left(2x^2 + 3xy\\right) = 3x $$"
   ]
  },
  {
   "cell_type": "code",
   "execution_count": 153,
   "metadata": {
    "button": false,
    "deletable": true,
    "new_sheet": false,
    "run_control": {
     "read_only": false
    }
   },
   "outputs": [
    {
     "data": {
      "text/plain": [
       "[10.0, 3.0]"
      ]
     },
     "execution_count": 153,
     "metadata": {},
     "output_type": "execute_result"
    }
   ],
   "source": [
    "var_grad = tf.gradients(func_test, [var_x, var_y])\n",
    "session.run(var_grad, {var_x:1.0,var_y:2.0})"
   ]
  },
  {
   "cell_type": "markdown",
   "metadata": {
    "button": false,
    "deletable": true,
    "new_sheet": false,
    "run_control": {
     "read_only": false
    }
   },
   "source": [
    "Now, we can look at gradients w.r.t all variables:"
   ]
  },
  {
   "cell_type": "code",
   "execution_count": 157,
   "metadata": {
    "button": false,
    "deletable": true,
    "new_sheet": false,
    "run_control": {
     "read_only": false
    },
    "scrolled": true
   },
   "outputs": [
    {
     "data": {
      "text/plain": [
       "[IndexedSlicesValue(values=array([[-2.0023101e-06, -6.1247206e-06,  3.4582818e-06, ...,\n",
       "         -5.7240404e-06,  1.5151845e-05, -9.1785914e-06],\n",
       "        [ 5.0772805e-06, -3.2938199e-06, -8.3776092e-07, ...,\n",
       "         -7.8740077e-06,  1.3563555e-05, -1.1688117e-05],\n",
       "        [ 6.2880436e-06,  1.3215160e-06,  1.9697218e-06, ...,\n",
       "         -1.1355696e-05,  1.0414182e-05, -9.1363117e-06],\n",
       "        ...,\n",
       "        [ 1.2887608e-06,  9.2518212e-07, -2.2497727e-06, ...,\n",
       "          7.3897686e-06,  7.0581227e-06,  1.6517401e-06],\n",
       "        [ 2.9282292e-06,  4.3829505e-06,  2.4143583e-06, ...,\n",
       "          1.0257549e-05,  3.1001343e-06,  6.7647284e-06],\n",
       "        [ 2.7577994e-06,  8.5802176e-06,  1.8910808e-06, ...,\n",
       "          5.0415219e-06, -1.6684781e-06, -5.6481963e-07]], dtype=float32), indices=array([9970, 9971, 9972, ..., 2043,   23,    1], dtype=int32), dense_shape=array([10000,   200], dtype=int32)),\n",
       " array([[-7.3554617e-08,  1.8004931e-11,  1.4316031e-08, ...,\n",
       "         -5.9623471e-09,  4.3953779e-08,  3.7440682e-08],\n",
       "        [-7.0535201e-08, -4.2058801e-11, -3.0262342e-08, ...,\n",
       "         -2.9306908e-09, -2.3583702e-10,  1.2953884e-08],\n",
       "        [-1.4519987e-08,  3.7737419e-08, -2.4092534e-08, ...,\n",
       "         -1.0661107e-08,  1.6180980e-08, -3.2200528e-08],\n",
       "        ...,\n",
       "        [-1.8886002e-09,  5.6079941e-09, -1.0421412e-09, ...,\n",
       "         -2.6163045e-09, -4.9045656e-10, -6.6528838e-10],\n",
       "        [ 2.7169360e-09, -3.4085978e-10, -7.7419410e-10, ...,\n",
       "          1.3930951e-09,  5.2167071e-09, -8.4613658e-09],\n",
       "        [ 5.5127209e-09,  3.6716157e-09,  2.0954458e-09, ...,\n",
       "          1.0311012e-09, -2.0585450e-10, -1.4890726e-08]], dtype=float32),\n",
       " array([ 1.4320246e-06,  2.5212894e-06,  1.2927096e-06, ...,\n",
       "        -3.2640639e-07, -1.9096169e-06, -4.5344605e-06], dtype=float32),\n",
       " array([[-2.9864677e-09,  5.1157723e-09,  2.0358550e-10, ...,\n",
       "         -7.3997236e-10, -9.5431449e-09, -3.8785891e-10],\n",
       "        [ 4.8334377e-09, -7.6183362e-09,  1.3134071e-08, ...,\n",
       "          3.7532901e-09,  7.4906090e-09, -7.5260509e-09],\n",
       "        [-7.8821731e-09, -1.1942355e-10, -4.1537027e-09, ...,\n",
       "         -5.5810951e-09,  7.0073694e-09, -5.2596389e-09],\n",
       "        ...,\n",
       "        [-4.1578274e-09, -1.2219282e-09,  1.4335334e-09, ...,\n",
       "         -2.8527292e-10, -1.2170435e-10, -2.9556526e-09],\n",
       "        [-2.2882654e-09, -1.3771119e-09,  1.2558404e-09, ...,\n",
       "         -2.7878845e-12, -4.7449289e-09,  3.4729625e-10],\n",
       "        [ 2.3593509e-09, -2.9438599e-10, -6.8021844e-10, ...,\n",
       "          1.5286251e-09,  1.6154392e-09, -6.0385421e-09]], dtype=float32),\n",
       " array([ 2.69240422e-06,  7.34922878e-07,  1.86140210e-06,  6.16563284e-07,\n",
       "        -2.96988958e-08, -4.38536460e-07,  6.69254177e-07, -2.06780237e-06,\n",
       "        -6.59088357e-07, -3.19240917e-06,  1.06487960e-07,  3.17350498e-07,\n",
       "        -2.67119594e-06,  2.53609460e-06,  2.35150333e-06, -1.57465570e-06,\n",
       "         2.77069512e-06,  3.32879904e-06,  2.06112122e-06, -3.34810466e-06,\n",
       "         1.13020969e-05,  8.62714751e-06, -1.50937387e-06,  3.70548207e-07,\n",
       "         4.30813861e-06,  3.14392310e-07,  2.75640764e-06,  4.35420077e-07,\n",
       "         3.19146761e-06,  5.74961541e-06,  2.43847467e-06, -3.77026618e-06,\n",
       "         2.09137556e-06,  2.81529765e-06, -2.02522347e-06,  4.68535109e-06,\n",
       "         2.81235600e-07, -3.22622191e-06, -4.12567459e-07, -3.69402812e-07,\n",
       "         1.97173858e-06,  3.53855717e-06,  2.05108904e-07, -1.67561052e-06,\n",
       "        -5.73658781e-07,  1.51480322e-06,  2.24303051e-07,  2.06641789e-06,\n",
       "        -2.28222643e-06, -2.20460288e-06,  3.78343589e-06,  4.96400753e-06,\n",
       "        -7.40352334e-06, -4.83607118e-06,  2.72613192e-06,  3.97264648e-06,\n",
       "        -5.72640374e-07, -1.10828421e-06, -1.75686409e-07, -4.18744639e-06,\n",
       "         3.00178135e-06,  2.44523562e-06,  3.05479307e-06, -1.27016085e-06,\n",
       "        -1.78760479e-06,  2.18311698e-06,  3.44327691e-06,  3.94435938e-06,\n",
       "         2.88509932e-06, -1.51163624e-06, -5.42794112e-07, -9.16338081e-07,\n",
       "         3.54127178e-06, -2.45908905e-06,  2.70794612e-06,  1.15475927e-06,\n",
       "         6.53465577e-07,  1.32123239e-06,  7.28519694e-07, -5.20976641e-07,\n",
       "        -1.15778157e-05,  6.10052575e-06,  2.51647771e-06,  1.82789847e-06,\n",
       "         9.10939889e-06, -3.51641120e-06, -8.02747934e-07,  4.47211818e-07,\n",
       "         1.09306836e-06,  9.13038264e-07,  1.79724134e-06, -2.39236488e-06,\n",
       "        -2.89138666e-06, -4.57457554e-06, -3.11710346e-06, -1.21919547e-05,\n",
       "         1.83775580e-06, -7.73147258e-06, -2.28203976e-06,  1.06387847e-06,\n",
       "        -2.94261304e-06,  3.27369798e-06, -2.92465074e-06,  4.84029272e-07,\n",
       "        -4.02442629e-06,  7.86070632e-06,  4.83113809e-07,  2.73228329e-06,\n",
       "         1.02931415e-06,  8.90927595e-07,  2.80581321e-06, -5.02033436e-06,\n",
       "         3.28864758e-06, -1.00297739e-05, -5.94402536e-07,  1.67225096e-06,\n",
       "         7.04887088e-06,  3.44347518e-06,  3.86307147e-06, -1.07530536e-06,\n",
       "        -1.67872458e-05,  1.51541201e-06, -3.11032773e-06, -3.12637053e-06,\n",
       "         2.24310224e-06, -5.00866508e-06,  7.44191993e-07, -6.94524169e-06,\n",
       "        -5.31816529e-03, -1.77171035e-03,  6.32007979e-03,  1.51104946e-02,\n",
       "         7.24495063e-03, -2.38991622e-03,  1.66078452e-02, -2.22689435e-02,\n",
       "        -2.24917918e-03,  1.42145185e-02,  7.84762437e-04,  1.77433877e-03,\n",
       "        -1.02502089e-02,  6.73667341e-03,  6.21969858e-03, -5.66644687e-03,\n",
       "        -1.18774734e-02, -1.02226939e-02,  1.61599834e-04,  2.39459751e-03,\n",
       "         2.80163549e-02, -3.19797210e-02,  8.54811352e-03, -9.30894352e-03,\n",
       "         2.14736983e-02,  1.04497299e-02, -3.46208513e-02, -2.44275965e-02,\n",
       "        -1.69997551e-02,  7.32490979e-03, -3.24744359e-02,  9.96701885e-04,\n",
       "        -1.36299832e-02,  2.05374639e-02,  1.15255443e-02, -3.03690229e-02,\n",
       "        -9.22739599e-03, -2.25586444e-03, -1.36329548e-03,  8.87119304e-03,\n",
       "         6.87980140e-03,  5.82850538e-03,  2.83591412e-02, -9.74844024e-03,\n",
       "         2.17068549e-02,  1.43192476e-02, -9.04136524e-03,  6.14519790e-03,\n",
       "        -1.43335769e-02, -2.49856152e-02,  1.91423530e-03,  2.64749099e-02,\n",
       "        -1.98848769e-02, -1.84283350e-02,  9.43909120e-03,  6.09900104e-03,\n",
       "         3.20117362e-03, -2.97860941e-03, -6.04965782e-04, -3.81780341e-02,\n",
       "        -8.74837046e-04,  1.41150076e-02,  4.63229557e-03, -5.92998404e-04,\n",
       "         1.50256064e-02,  8.10539722e-03, -9.89368930e-03,  1.60562992e-02,\n",
       "         2.16609091e-02,  6.30250107e-03,  1.10609625e-02,  8.49229004e-03,\n",
       "        -2.03244984e-02, -4.93690185e-03, -9.27225035e-03,  6.49786368e-03,\n",
       "        -1.12609742e-02,  2.02273065e-03,  4.82423557e-03, -8.12101830e-03,\n",
       "        -3.88934575e-02,  1.06752878e-02, -8.90418049e-03, -1.35562103e-02,\n",
       "        -4.43811081e-02, -1.90471280e-02,  1.99685954e-02, -1.12837953e-02,\n",
       "         5.08075021e-03, -5.74234175e-04, -1.34725347e-02, -1.41728204e-02,\n",
       "        -4.57460154e-03, -1.61610742e-03,  1.58376247e-02,  2.45123971e-02,\n",
       "        -9.59824026e-03, -1.87505260e-02, -1.30571891e-04,  7.71650812e-03,\n",
       "         1.28341280e-02, -1.36380428e-02, -8.79281107e-03,  1.03894435e-02,\n",
       "         2.34008711e-02,  8.35647434e-03, -8.05317611e-03, -1.02477992e-04,\n",
       "         2.47320291e-02, -1.85963325e-03, -1.61736775e-02, -1.68002280e-03,\n",
       "        -9.73467622e-03,  2.50497237e-02, -1.84751733e-03, -5.14885643e-04,\n",
       "         2.35854206e-03, -1.24605549e-02, -1.31512405e-02, -8.47348652e-04,\n",
       "         3.85195874e-02,  4.23703482e-03,  3.60740325e-03,  7.49011617e-03,\n",
       "        -1.73578188e-02, -1.42239500e-03, -1.39497621e-02, -1.34057552e-02,\n",
       "         4.06625031e-06,  2.32131151e-06,  6.48253575e-08,  3.36726293e-06,\n",
       "         2.93272046e-06, -3.06302297e-07,  4.24653877e-07,  7.53771928e-07,\n",
       "         3.01627961e-06, -2.66805091e-06,  1.29938326e-06, -2.07747775e-07,\n",
       "        -2.04124512e-06,  1.51489007e-06,  1.74888839e-06, -3.42638964e-06,\n",
       "         1.40292934e-06,  1.86421516e-06, -5.07384357e-07, -1.66488701e-06,\n",
       "         9.51335915e-06,  6.52949802e-06, -3.26590930e-06, -7.36036441e-08,\n",
       "         4.38360121e-06,  2.78150605e-06, -5.07660047e-07,  1.48890490e-06,\n",
       "         4.71958117e-07,  4.96660687e-06,  1.41551186e-06, -1.80290249e-06,\n",
       "         9.32646628e-07,  4.75217848e-06,  3.39096971e-07,  5.63715685e-06,\n",
       "         1.06781181e-06, -2.32353000e-06,  9.05973707e-07,  7.98753547e-07,\n",
       "         1.32264495e-06,  1.13237945e-06,  4.20399147e-08,  2.30367021e-07,\n",
       "        -1.11703457e-07,  2.61314563e-06,  2.23374536e-06,  2.87938451e-06,\n",
       "         1.08052325e-06,  1.88643560e-06,  1.83214866e-06,  4.87600755e-06,\n",
       "        -6.14823784e-06, -1.57183922e-06,  4.36985033e-07,  3.11790950e-06,\n",
       "         5.35646734e-07,  1.62912249e-06, -6.22636719e-07, -3.21602261e-06,\n",
       "         8.32937417e-07,  2.17048978e-06,  9.55822543e-07,  3.43853259e-07,\n",
       "        -4.68966300e-06,  2.54875431e-06,  6.02748230e-07,  7.41194185e-07,\n",
       "         1.78633991e-06,  1.01633091e-07, -8.77554555e-07, -1.29047328e-06,\n",
       "         1.01877106e-06, -4.32158777e-06,  8.08680966e-07,  1.63011055e-06,\n",
       "         2.83369809e-06,  9.64486617e-07, -4.96041991e-07,  2.91394997e-08,\n",
       "        -1.10895762e-05,  5.73884790e-06, -9.90232593e-07, -2.98096325e-07,\n",
       "         8.91528816e-06, -3.46310958e-06,  4.75552611e-07, -1.03706135e-07,\n",
       "         2.11723182e-06,  5.75772162e-07,  3.23843574e-06,  2.74858280e-07,\n",
       "        -2.02785623e-06, -4.31616400e-06, -2.62430717e-06, -7.73185002e-06,\n",
       "         2.11757424e-07, -4.04668299e-06, -2.79119877e-06, -1.03582624e-06,\n",
       "        -1.43837485e-06,  2.39217525e-06, -1.65644997e-06, -6.46479918e-07,\n",
       "        -6.56564816e-06,  5.26703798e-06,  1.00951127e-06,  3.47300613e-07,\n",
       "         3.29941969e-07, -4.35012544e-06, -1.21543258e-06, -3.59393175e-06,\n",
       "         3.92295215e-06, -5.59133423e-06, -2.28203658e-06,  1.86320608e-06,\n",
       "         2.31197419e-06,  2.99428098e-06,  3.70154112e-06, -3.49237155e-08,\n",
       "        -1.43912221e-05,  2.06498072e-07, -1.76986998e-06, -4.28563499e-06,\n",
       "         3.60774129e-06, -9.46584464e-08,  1.64839321e-06, -5.36222842e-06,\n",
       "         2.69390443e-06,  7.34983928e-07,  1.86326588e-06,  6.12435656e-07,\n",
       "        -3.17200772e-08, -4.40338454e-07,  6.71013254e-07, -2.07038647e-06,\n",
       "        -6.56047973e-07, -3.19416199e-06,  1.04844304e-07,  3.18839113e-07,\n",
       "        -2.66915254e-06,  2.53665780e-06,  2.35507059e-06, -1.56908993e-06,\n",
       "         2.77147660e-06,  3.32886952e-06,  2.05903189e-06, -3.34923561e-06,\n",
       "         1.13027991e-05,  8.63262903e-06, -1.50598612e-06,  3.69418785e-07,\n",
       "         4.31077524e-06,  3.13034548e-07,  2.75623620e-06,  4.38427918e-07,\n",
       "         3.19298351e-06,  5.75146623e-06,  2.43963859e-06, -3.76630283e-06,\n",
       "         2.09404971e-06,  2.81587518e-06, -2.02251726e-06,  4.68730286e-06,\n",
       "         2.79683036e-07, -3.22499659e-06, -4.14302690e-07, -3.68923338e-07,\n",
       "         1.96906012e-06,  3.53846417e-06,  2.08853635e-07, -1.67281530e-06,\n",
       "        -5.78066761e-07,  1.51860354e-06,  2.24755581e-07,  2.06484287e-06,\n",
       "        -2.28559543e-06, -2.20482639e-06,  3.78606319e-06,  4.95728727e-06,\n",
       "        -7.40426049e-06, -4.83026588e-06,  2.72551506e-06,  3.96823270e-06,\n",
       "        -5.68804012e-07, -1.10862891e-06, -1.73074000e-07, -4.18477521e-06,\n",
       "         3.00283386e-06,  2.45308934e-06,  3.04883247e-06, -1.27058615e-06,\n",
       "        -1.78837934e-06,  2.17807337e-06,  3.44113641e-06,  3.94917743e-06,\n",
       "         2.88987121e-06, -1.51264226e-06, -5.39579901e-07, -9.11340976e-07,\n",
       "         3.54413464e-06, -2.46037712e-06,  2.70953433e-06,  1.15603450e-06,\n",
       "         6.51835990e-07,  1.32205696e-06,  7.27977067e-07, -5.16657565e-07,\n",
       "        -1.15790399e-05,  6.10601819e-06,  2.51553433e-06,  1.82938902e-06,\n",
       "         9.11370444e-06, -3.51867584e-06, -8.03392709e-07,  4.46578895e-07,\n",
       "         1.09600057e-06,  9.16990587e-07,  1.79373501e-06, -2.38976190e-06,\n",
       "        -2.88620663e-06, -4.57003398e-06, -3.12028897e-06, -1.21800622e-05,\n",
       "         1.83580585e-06, -7.72827843e-06, -2.27946452e-06,  1.06616938e-06,\n",
       "        -2.94487336e-06,  3.27523662e-06, -2.92967866e-06,  4.86548004e-07,\n",
       "        -4.01774378e-06,  7.86233795e-06,  4.89298600e-07,  2.73544629e-06,\n",
       "         1.02783940e-06,  8.88494867e-07,  2.80486302e-06, -5.02039438e-06,\n",
       "         3.29427894e-06, -1.00325033e-05, -5.96297809e-07,  1.67567100e-06,\n",
       "         7.04254626e-06,  3.44211890e-06,  3.86067450e-06, -1.07899291e-06,\n",
       "        -1.67838461e-05,  1.51535016e-06, -3.10886480e-06, -3.12383236e-06,\n",
       "         2.24404585e-06, -5.00963733e-06,  7.46153319e-07, -6.95089830e-06],\n",
       "       dtype=float32),\n",
       " array([[ 1.74449990e-04,  1.73133245e-04,  2.62972753e-04, ...,\n",
       "         -4.50242879e-07, -4.49658302e-07, -4.46827585e-07],\n",
       "        [-4.10368848e-05, -3.41687155e-05, -2.67464697e-04, ...,\n",
       "          1.75546248e-07,  1.75305956e-07,  1.74196444e-07],\n",
       "        [ 9.48520101e-05,  3.04111396e-04,  1.61924894e-04, ...,\n",
       "         -3.08334307e-07, -3.07913552e-07, -3.05994888e-07],\n",
       "        ...,\n",
       "        [ 1.16460680e-04,  2.07096564e-05,  6.26508481e-05, ...,\n",
       "         -3.03667562e-08, -3.03626777e-08, -3.01901864e-08],\n",
       "        [ 2.05739023e-04,  7.89462792e-05,  1.20505094e-04, ...,\n",
       "         -1.67523183e-07, -1.67296363e-07, -1.66212516e-07],\n",
       "        [-1.50083710e-04, -2.38489258e-04, -3.30152106e-04, ...,\n",
       "          4.19890398e-07,  4.19378296e-07,  4.16713249e-07]], dtype=float32),\n",
       " array([-0.781324  , -1.0979874 , -0.98134553, ...,  0.00200268,\n",
       "         0.00200012,  0.00198752], dtype=float32)]"
      ]
     },
     "execution_count": 157,
     "metadata": {},
     "output_type": "execute_result"
    }
   ],
   "source": [
    "session.run(tf.gradients(cost, tvars), feed_dict)"
   ]
  },
  {
   "cell_type": "markdown",
   "metadata": {
    "button": false,
    "deletable": true,
    "new_sheet": false,
    "run_control": {
     "read_only": false
    }
   },
   "source": [
    "\n",
    "\n",
    "\n",
    "now, we have a list of tensors, t-list. We can use it to find clipped tensors. <b>clip_by_global_norm</b> clips values of multiple tensors by the ratio of the sum of their norms.\n",
    "\n",
    "<b>clip_by_global_norm</b> get <i>t-list</i> as input and returns 2 things:\n",
    "<ul>\n",
    "    <li>a list of clipped tensors, so called <i>list_clipped</i></li> \n",
    "    <li>the global norm (global_norm) of all tensors in t_list</li> \n",
    "</ul>"
   ]
  },
  {
   "cell_type": "code",
   "execution_count": 160,
   "metadata": {
    "button": false,
    "deletable": true,
    "new_sheet": false,
    "run_control": {
     "read_only": false
    }
   },
   "outputs": [
    {
     "data": {
      "text/plain": [
       "[<tensorflow.python.framework.ops.IndexedSlices at 0x7f121c150c50>,\n",
       " <tf.Tensor 'clip_by_global_norm/clip_by_global_norm/_1:0' shape=(456, 1024) dtype=float32>,\n",
       " <tf.Tensor 'clip_by_global_norm/clip_by_global_norm/_2:0' shape=(1024,) dtype=float32>,\n",
       " <tf.Tensor 'clip_by_global_norm/clip_by_global_norm/_3:0' shape=(384, 512) dtype=float32>,\n",
       " <tf.Tensor 'clip_by_global_norm/clip_by_global_norm/_4:0' shape=(512,) dtype=float32>,\n",
       " <tf.Tensor 'clip_by_global_norm/clip_by_global_norm/_5:0' shape=(128, 10000) dtype=float32>,\n",
       " <tf.Tensor 'clip_by_global_norm/clip_by_global_norm/_6:0' shape=(10000,) dtype=float32>]"
      ]
     },
     "execution_count": 160,
     "metadata": {},
     "output_type": "execute_result"
    }
   ],
   "source": [
    "# Define the gradient clipping threshold\n",
    "grads, _ = tf.clip_by_global_norm(tf.gradients(cost, tvars), max_grad_norm)\n",
    "grads"
   ]
  },
  {
   "cell_type": "code",
   "execution_count": 161,
   "metadata": {
    "button": false,
    "collapsed": true,
    "deletable": true,
    "jupyter": {
     "outputs_hidden": true
    },
    "new_sheet": false,
    "run_control": {
     "read_only": false
    }
   },
   "outputs": [
    {
     "data": {
      "text/plain": [
       "[IndexedSlicesValue(values=array([[-2.0023101e-06, -6.1247206e-06,  3.4582818e-06, ...,\n",
       "         -5.7240404e-06,  1.5151845e-05, -9.1785914e-06],\n",
       "        [ 5.0772805e-06, -3.2938199e-06, -8.3776092e-07, ...,\n",
       "         -7.8740077e-06,  1.3563555e-05, -1.1688117e-05],\n",
       "        [ 6.2880436e-06,  1.3215160e-06,  1.9697218e-06, ...,\n",
       "         -1.1355696e-05,  1.0414182e-05, -9.1363117e-06],\n",
       "        ...,\n",
       "        [ 1.2887608e-06,  9.2518212e-07, -2.2497727e-06, ...,\n",
       "          7.3897686e-06,  7.0581227e-06,  1.6517401e-06],\n",
       "        [ 2.9282292e-06,  4.3829505e-06,  2.4143583e-06, ...,\n",
       "          1.0257549e-05,  3.1001343e-06,  6.7647284e-06],\n",
       "        [ 2.7577994e-06,  8.5802176e-06,  1.8910808e-06, ...,\n",
       "          5.0415219e-06, -1.6684781e-06, -5.6481963e-07]], dtype=float32), indices=array([9970, 9971, 9972, ..., 2043,   23,    1], dtype=int32), dense_shape=array([10000,   200], dtype=int32)),\n",
       " array([[-7.3554617e-08,  1.8004931e-11,  1.4316031e-08, ...,\n",
       "         -5.9623471e-09,  4.3953779e-08,  3.7440682e-08],\n",
       "        [-7.0535201e-08, -4.2058801e-11, -3.0262342e-08, ...,\n",
       "         -2.9306908e-09, -2.3583702e-10,  1.2953884e-08],\n",
       "        [-1.4519987e-08,  3.7737419e-08, -2.4092534e-08, ...,\n",
       "         -1.0661107e-08,  1.6180980e-08, -3.2200528e-08],\n",
       "        ...,\n",
       "        [-1.8886002e-09,  5.6079941e-09, -1.0421412e-09, ...,\n",
       "         -2.6163045e-09, -4.9045656e-10, -6.6528838e-10],\n",
       "        [ 2.7169360e-09, -3.4085978e-10, -7.7419410e-10, ...,\n",
       "          1.3930951e-09,  5.2167071e-09, -8.4613658e-09],\n",
       "        [ 5.5127209e-09,  3.6716157e-09,  2.0954458e-09, ...,\n",
       "          1.0311012e-09, -2.0585450e-10, -1.4890726e-08]], dtype=float32),\n",
       " array([ 1.4320246e-06,  2.5212894e-06,  1.2927096e-06, ...,\n",
       "        -3.2640639e-07, -1.9096169e-06, -4.5344605e-06], dtype=float32),\n",
       " array([[-2.9864677e-09,  5.1157723e-09,  2.0358550e-10, ...,\n",
       "         -7.3997236e-10, -9.5431449e-09, -3.8785891e-10],\n",
       "        [ 4.8334377e-09, -7.6183362e-09,  1.3134071e-08, ...,\n",
       "          3.7532901e-09,  7.4906090e-09, -7.5260509e-09],\n",
       "        [-7.8821731e-09, -1.1942355e-10, -4.1537027e-09, ...,\n",
       "         -5.5810951e-09,  7.0073694e-09, -5.2596389e-09],\n",
       "        ...,\n",
       "        [-4.1578274e-09, -1.2219282e-09,  1.4335334e-09, ...,\n",
       "         -2.8527292e-10, -1.2170435e-10, -2.9556526e-09],\n",
       "        [-2.2882654e-09, -1.3771119e-09,  1.2558404e-09, ...,\n",
       "         -2.7878845e-12, -4.7449289e-09,  3.4729625e-10],\n",
       "        [ 2.3593509e-09, -2.9438599e-10, -6.8021844e-10, ...,\n",
       "          1.5286251e-09,  1.6154392e-09, -6.0385421e-09]], dtype=float32),\n",
       " array([ 2.69240422e-06,  7.34922878e-07,  1.86140210e-06,  6.16563284e-07,\n",
       "        -2.96988958e-08, -4.38536460e-07,  6.69254177e-07, -2.06780237e-06,\n",
       "        -6.59088357e-07, -3.19240917e-06,  1.06487960e-07,  3.17350498e-07,\n",
       "        -2.67119594e-06,  2.53609460e-06,  2.35150333e-06, -1.57465570e-06,\n",
       "         2.77069512e-06,  3.32879904e-06,  2.06112122e-06, -3.34810466e-06,\n",
       "         1.13020969e-05,  8.62714751e-06, -1.50937387e-06,  3.70548207e-07,\n",
       "         4.30813861e-06,  3.14392310e-07,  2.75640764e-06,  4.35420077e-07,\n",
       "         3.19146761e-06,  5.74961541e-06,  2.43847467e-06, -3.77026618e-06,\n",
       "         2.09137556e-06,  2.81529765e-06, -2.02522347e-06,  4.68535109e-06,\n",
       "         2.81235600e-07, -3.22622191e-06, -4.12567459e-07, -3.69402812e-07,\n",
       "         1.97173858e-06,  3.53855717e-06,  2.05108904e-07, -1.67561052e-06,\n",
       "        -5.73658781e-07,  1.51480322e-06,  2.24303051e-07,  2.06641789e-06,\n",
       "        -2.28222643e-06, -2.20460288e-06,  3.78343589e-06,  4.96400753e-06,\n",
       "        -7.40352334e-06, -4.83607118e-06,  2.72613192e-06,  3.97264648e-06,\n",
       "        -5.72640374e-07, -1.10828421e-06, -1.75686409e-07, -4.18744639e-06,\n",
       "         3.00178135e-06,  2.44523562e-06,  3.05479307e-06, -1.27016085e-06,\n",
       "        -1.78760479e-06,  2.18311698e-06,  3.44327691e-06,  3.94435938e-06,\n",
       "         2.88509932e-06, -1.51163624e-06, -5.42794112e-07, -9.16338081e-07,\n",
       "         3.54127178e-06, -2.45908905e-06,  2.70794612e-06,  1.15475927e-06,\n",
       "         6.53465577e-07,  1.32123239e-06,  7.28519694e-07, -5.20976641e-07,\n",
       "        -1.15778157e-05,  6.10052575e-06,  2.51647771e-06,  1.82789847e-06,\n",
       "         9.10939889e-06, -3.51641120e-06, -8.02747934e-07,  4.47211818e-07,\n",
       "         1.09306836e-06,  9.13038264e-07,  1.79724134e-06, -2.39236488e-06,\n",
       "        -2.89138666e-06, -4.57457554e-06, -3.11710346e-06, -1.21919547e-05,\n",
       "         1.83775580e-06, -7.73147258e-06, -2.28203976e-06,  1.06387847e-06,\n",
       "        -2.94261304e-06,  3.27369798e-06, -2.92465074e-06,  4.84029272e-07,\n",
       "        -4.02442629e-06,  7.86070632e-06,  4.83113809e-07,  2.73228329e-06,\n",
       "         1.02931415e-06,  8.90927595e-07,  2.80581321e-06, -5.02033436e-06,\n",
       "         3.28864758e-06, -1.00297739e-05, -5.94402536e-07,  1.67225096e-06,\n",
       "         7.04887088e-06,  3.44347518e-06,  3.86307147e-06, -1.07530536e-06,\n",
       "        -1.67872458e-05,  1.51541201e-06, -3.11032773e-06, -3.12637053e-06,\n",
       "         2.24310224e-06, -5.00866508e-06,  7.44191993e-07, -6.94524169e-06,\n",
       "        -5.31816529e-03, -1.77171035e-03,  6.32007979e-03,  1.51104946e-02,\n",
       "         7.24495063e-03, -2.38991622e-03,  1.66078452e-02, -2.22689435e-02,\n",
       "        -2.24917918e-03,  1.42145185e-02,  7.84762437e-04,  1.77433877e-03,\n",
       "        -1.02502089e-02,  6.73667341e-03,  6.21969858e-03, -5.66644687e-03,\n",
       "        -1.18774734e-02, -1.02226939e-02,  1.61599834e-04,  2.39459751e-03,\n",
       "         2.80163549e-02, -3.19797210e-02,  8.54811352e-03, -9.30894352e-03,\n",
       "         2.14736983e-02,  1.04497299e-02, -3.46208513e-02, -2.44275965e-02,\n",
       "        -1.69997551e-02,  7.32490979e-03, -3.24744359e-02,  9.96701885e-04,\n",
       "        -1.36299832e-02,  2.05374639e-02,  1.15255443e-02, -3.03690229e-02,\n",
       "        -9.22739599e-03, -2.25586444e-03, -1.36329548e-03,  8.87119304e-03,\n",
       "         6.87980140e-03,  5.82850538e-03,  2.83591412e-02, -9.74844024e-03,\n",
       "         2.17068549e-02,  1.43192476e-02, -9.04136524e-03,  6.14519790e-03,\n",
       "        -1.43335769e-02, -2.49856152e-02,  1.91423530e-03,  2.64749099e-02,\n",
       "        -1.98848769e-02, -1.84283350e-02,  9.43909120e-03,  6.09900104e-03,\n",
       "         3.20117362e-03, -2.97860941e-03, -6.04965782e-04, -3.81780341e-02,\n",
       "        -8.74837046e-04,  1.41150076e-02,  4.63229557e-03, -5.92998404e-04,\n",
       "         1.50256064e-02,  8.10539722e-03, -9.89368930e-03,  1.60562992e-02,\n",
       "         2.16609091e-02,  6.30250107e-03,  1.10609625e-02,  8.49229004e-03,\n",
       "        -2.03244984e-02, -4.93690185e-03, -9.27225035e-03,  6.49786368e-03,\n",
       "        -1.12609742e-02,  2.02273065e-03,  4.82423557e-03, -8.12101830e-03,\n",
       "        -3.88934575e-02,  1.06752878e-02, -8.90418049e-03, -1.35562103e-02,\n",
       "        -4.43811081e-02, -1.90471280e-02,  1.99685954e-02, -1.12837953e-02,\n",
       "         5.08075021e-03, -5.74234175e-04, -1.34725347e-02, -1.41728204e-02,\n",
       "        -4.57460154e-03, -1.61610742e-03,  1.58376247e-02,  2.45123971e-02,\n",
       "        -9.59824026e-03, -1.87505260e-02, -1.30571891e-04,  7.71650812e-03,\n",
       "         1.28341280e-02, -1.36380428e-02, -8.79281107e-03,  1.03894435e-02,\n",
       "         2.34008711e-02,  8.35647434e-03, -8.05317611e-03, -1.02477992e-04,\n",
       "         2.47320291e-02, -1.85963325e-03, -1.61736775e-02, -1.68002280e-03,\n",
       "        -9.73467622e-03,  2.50497237e-02, -1.84751733e-03, -5.14885643e-04,\n",
       "         2.35854206e-03, -1.24605549e-02, -1.31512405e-02, -8.47348652e-04,\n",
       "         3.85195874e-02,  4.23703482e-03,  3.60740325e-03,  7.49011617e-03,\n",
       "        -1.73578188e-02, -1.42239500e-03, -1.39497621e-02, -1.34057552e-02,\n",
       "         4.06625031e-06,  2.32131151e-06,  6.48253575e-08,  3.36726293e-06,\n",
       "         2.93272046e-06, -3.06302297e-07,  4.24653877e-07,  7.53771928e-07,\n",
       "         3.01627961e-06, -2.66805091e-06,  1.29938326e-06, -2.07747775e-07,\n",
       "        -2.04124512e-06,  1.51489007e-06,  1.74888839e-06, -3.42638964e-06,\n",
       "         1.40292934e-06,  1.86421516e-06, -5.07384357e-07, -1.66488701e-06,\n",
       "         9.51335915e-06,  6.52949802e-06, -3.26590930e-06, -7.36036441e-08,\n",
       "         4.38360121e-06,  2.78150605e-06, -5.07660047e-07,  1.48890490e-06,\n",
       "         4.71958117e-07,  4.96660687e-06,  1.41551186e-06, -1.80290249e-06,\n",
       "         9.32646628e-07,  4.75217848e-06,  3.39096971e-07,  5.63715685e-06,\n",
       "         1.06781181e-06, -2.32353000e-06,  9.05973707e-07,  7.98753547e-07,\n",
       "         1.32264495e-06,  1.13237945e-06,  4.20399147e-08,  2.30367021e-07,\n",
       "        -1.11703457e-07,  2.61314563e-06,  2.23374536e-06,  2.87938451e-06,\n",
       "         1.08052325e-06,  1.88643560e-06,  1.83214866e-06,  4.87600755e-06,\n",
       "        -6.14823784e-06, -1.57183922e-06,  4.36985033e-07,  3.11790950e-06,\n",
       "         5.35646734e-07,  1.62912249e-06, -6.22636719e-07, -3.21602261e-06,\n",
       "         8.32937417e-07,  2.17048978e-06,  9.55822543e-07,  3.43853259e-07,\n",
       "        -4.68966300e-06,  2.54875431e-06,  6.02748230e-07,  7.41194185e-07,\n",
       "         1.78633991e-06,  1.01633091e-07, -8.77554555e-07, -1.29047328e-06,\n",
       "         1.01877106e-06, -4.32158777e-06,  8.08680966e-07,  1.63011055e-06,\n",
       "         2.83369809e-06,  9.64486617e-07, -4.96041991e-07,  2.91394997e-08,\n",
       "        -1.10895762e-05,  5.73884790e-06, -9.90232593e-07, -2.98096325e-07,\n",
       "         8.91528816e-06, -3.46310958e-06,  4.75552611e-07, -1.03706135e-07,\n",
       "         2.11723182e-06,  5.75772162e-07,  3.23843574e-06,  2.74858280e-07,\n",
       "        -2.02785623e-06, -4.31616400e-06, -2.62430717e-06, -7.73185002e-06,\n",
       "         2.11757424e-07, -4.04668299e-06, -2.79119877e-06, -1.03582624e-06,\n",
       "        -1.43837485e-06,  2.39217525e-06, -1.65644997e-06, -6.46479918e-07,\n",
       "        -6.56564816e-06,  5.26703798e-06,  1.00951127e-06,  3.47300613e-07,\n",
       "         3.29941969e-07, -4.35012544e-06, -1.21543258e-06, -3.59393175e-06,\n",
       "         3.92295215e-06, -5.59133423e-06, -2.28203658e-06,  1.86320608e-06,\n",
       "         2.31197419e-06,  2.99428098e-06,  3.70154112e-06, -3.49237155e-08,\n",
       "        -1.43912221e-05,  2.06498072e-07, -1.76986998e-06, -4.28563499e-06,\n",
       "         3.60774129e-06, -9.46584464e-08,  1.64839321e-06, -5.36222842e-06,\n",
       "         2.69390443e-06,  7.34983928e-07,  1.86326588e-06,  6.12435656e-07,\n",
       "        -3.17200772e-08, -4.40338454e-07,  6.71013254e-07, -2.07038647e-06,\n",
       "        -6.56047973e-07, -3.19416199e-06,  1.04844304e-07,  3.18839113e-07,\n",
       "        -2.66915254e-06,  2.53665780e-06,  2.35507059e-06, -1.56908993e-06,\n",
       "         2.77147660e-06,  3.32886952e-06,  2.05903189e-06, -3.34923561e-06,\n",
       "         1.13027991e-05,  8.63262903e-06, -1.50598612e-06,  3.69418785e-07,\n",
       "         4.31077524e-06,  3.13034548e-07,  2.75623620e-06,  4.38427918e-07,\n",
       "         3.19298351e-06,  5.75146623e-06,  2.43963859e-06, -3.76630283e-06,\n",
       "         2.09404971e-06,  2.81587518e-06, -2.02251726e-06,  4.68730286e-06,\n",
       "         2.79683036e-07, -3.22499659e-06, -4.14302690e-07, -3.68923338e-07,\n",
       "         1.96906012e-06,  3.53846417e-06,  2.08853635e-07, -1.67281530e-06,\n",
       "        -5.78066761e-07,  1.51860354e-06,  2.24755581e-07,  2.06484287e-06,\n",
       "        -2.28559543e-06, -2.20482639e-06,  3.78606319e-06,  4.95728727e-06,\n",
       "        -7.40426049e-06, -4.83026588e-06,  2.72551506e-06,  3.96823270e-06,\n",
       "        -5.68804012e-07, -1.10862891e-06, -1.73074000e-07, -4.18477521e-06,\n",
       "         3.00283386e-06,  2.45308934e-06,  3.04883247e-06, -1.27058615e-06,\n",
       "        -1.78837934e-06,  2.17807337e-06,  3.44113641e-06,  3.94917743e-06,\n",
       "         2.88987121e-06, -1.51264226e-06, -5.39579901e-07, -9.11340976e-07,\n",
       "         3.54413464e-06, -2.46037712e-06,  2.70953433e-06,  1.15603450e-06,\n",
       "         6.51835990e-07,  1.32205696e-06,  7.27977067e-07, -5.16657565e-07,\n",
       "        -1.15790399e-05,  6.10601819e-06,  2.51553433e-06,  1.82938902e-06,\n",
       "         9.11370444e-06, -3.51867584e-06, -8.03392709e-07,  4.46578895e-07,\n",
       "         1.09600057e-06,  9.16990587e-07,  1.79373501e-06, -2.38976190e-06,\n",
       "        -2.88620663e-06, -4.57003398e-06, -3.12028897e-06, -1.21800622e-05,\n",
       "         1.83580585e-06, -7.72827843e-06, -2.27946452e-06,  1.06616938e-06,\n",
       "        -2.94487336e-06,  3.27523662e-06, -2.92967866e-06,  4.86548004e-07,\n",
       "        -4.01774378e-06,  7.86233795e-06,  4.89298600e-07,  2.73544629e-06,\n",
       "         1.02783940e-06,  8.88494867e-07,  2.80486302e-06, -5.02039438e-06,\n",
       "         3.29427894e-06, -1.00325033e-05, -5.96297809e-07,  1.67567100e-06,\n",
       "         7.04254626e-06,  3.44211890e-06,  3.86067450e-06, -1.07899291e-06,\n",
       "        -1.67838461e-05,  1.51535016e-06, -3.10886480e-06, -3.12383236e-06,\n",
       "         2.24404585e-06, -5.00963733e-06,  7.46153319e-07, -6.95089830e-06],\n",
       "       dtype=float32),\n",
       " array([[ 1.74449990e-04,  1.73133245e-04,  2.62972753e-04, ...,\n",
       "         -4.50242879e-07, -4.49658302e-07, -4.46827585e-07],\n",
       "        [-4.10368848e-05, -3.41687155e-05, -2.67464697e-04, ...,\n",
       "          1.75546248e-07,  1.75305956e-07,  1.74196444e-07],\n",
       "        [ 9.48520101e-05,  3.04111396e-04,  1.61924894e-04, ...,\n",
       "         -3.08334307e-07, -3.07913552e-07, -3.05994888e-07],\n",
       "        ...,\n",
       "        [ 1.16460680e-04,  2.07096564e-05,  6.26508481e-05, ...,\n",
       "         -3.03667562e-08, -3.03626777e-08, -3.01901864e-08],\n",
       "        [ 2.05739023e-04,  7.89462792e-05,  1.20505094e-04, ...,\n",
       "         -1.67523183e-07, -1.67296363e-07, -1.66212516e-07],\n",
       "        [-1.50083710e-04, -2.38489258e-04, -3.30152106e-04, ...,\n",
       "          4.19890398e-07,  4.19378296e-07,  4.16713249e-07]], dtype=float32),\n",
       " array([-0.781324  , -1.0979874 , -0.98134553, ...,  0.00200268,\n",
       "         0.00200012,  0.00198752], dtype=float32)]"
      ]
     },
     "execution_count": 161,
     "metadata": {},
     "output_type": "execute_result"
    }
   ],
   "source": [
    "session.run(grads, feed_dict)"
   ]
  },
  {
   "cell_type": "markdown",
   "metadata": {
    "button": false,
    "deletable": true,
    "new_sheet": false,
    "run_control": {
     "read_only": false
    }
   },
   "source": [
    "<h4>4. Apply the optimizer to the variables / gradients tuple.</h4>"
   ]
  },
  {
   "cell_type": "code",
   "execution_count": 162,
   "metadata": {
    "button": false,
    "deletable": true,
    "new_sheet": false,
    "run_control": {
     "read_only": false
    }
   },
   "outputs": [],
   "source": [
    "# Create the training TensorFlow Operation through our optimizer\n",
    "train_op = optimizer.apply_gradients(zip(grads, tvars))"
   ]
  },
  {
   "cell_type": "code",
   "execution_count": 163,
   "metadata": {
    "button": false,
    "deletable": true,
    "new_sheet": false,
    "run_control": {
     "read_only": false
    }
   },
   "outputs": [],
   "source": [
    "session.run(tf.global_variables_initializer())\n",
    "session.run(train_op, feed_dict)"
   ]
  },
  {
   "cell_type": "markdown",
   "metadata": {},
   "source": [
    "<a id=\"ltsm\"></a>\n",
    "<h2>LSTM</h2>"
   ]
  },
  {
   "cell_type": "markdown",
   "metadata": {
    "button": false,
    "deletable": true,
    "new_sheet": false,
    "run_control": {
     "read_only": false
    }
   },
   "source": [
    "We learned how the model is build step by step. Noe, let's then create a Class that represents our model. This class needs a few things:\n",
    "<ul>\n",
    "    <li>We have to create the model in accordance with our defined hyperparameters</li>\n",
    "    <li>We have to create the placeholders for our input data and expected outputs (the real data)</li>\n",
    "    <li>We have to create the LSTM cell structure and connect them with our RNN structure</li>\n",
    "    <li>We have to create the word embeddings and point them to the input data</li>\n",
    "    <li>We have to create the input structure for our RNN</li>\n",
    "    <li>We have to instantiate our RNN model and retrieve the variable in which we should expect our outputs to appear</li>\n",
    "    <li>We need to create a logistic structure to return the probability of our words</li>\n",
    "    <li>We need to create the loss and cost functions for our optimizer to work, and then create the optimizer</li>\n",
    "    <li>And finally, we need to create a training operation that can be run to actually train our model</li>\n",
    "</ul>"
   ]
  },
  {
   "cell_type": "code",
   "execution_count": 165,
   "metadata": {
    "button": false,
    "deletable": true,
    "new_sheet": false,
    "run_control": {
     "read_only": false
    }
   },
   "outputs": [],
   "source": [
    "class PTBModel(object):\n",
    "\n",
    "    def __init__(self, action_type):\n",
    "        ######################################\n",
    "        # Setting parameters for ease of use #\n",
    "        ######################################\n",
    "        self.batch_size = batch_size\n",
    "        self.num_steps = num_steps\n",
    "        self.hidden_size_l1 = hidden_size_l1\n",
    "        self.hidden_size_l2 = hidden_size_l2\n",
    "        self.vocab_size = vocab_size\n",
    "        self.embeding_vector_size = embeding_vector_size\n",
    "        ###############################################################################\n",
    "        # Creating placeholders for our input data and expected outputs (target data) #\n",
    "        ###############################################################################\n",
    "        self._input_data = tf.placeholder(tf.int32, [batch_size, num_steps]) #[30#20]\n",
    "        self._targets = tf.placeholder(tf.int32, [batch_size, num_steps]) #[30#20]\n",
    "\n",
    "        ##########################################################################\n",
    "        # Creating the LSTM cell structure and connect it with the RNN structure #\n",
    "        ##########################################################################\n",
    "        # Create the LSTM unit. \n",
    "        # This creates only the structure for the LSTM and has to be associated with a RNN unit still.\n",
    "        # The argument n_hidden(size=200) of BasicLSTMCell is size of hidden layer, that is, the number of hidden units of the LSTM (inside A).\n",
    "        # Size is the same as the size of our hidden layer, and no bias is added to the Forget Gate. \n",
    "        # LSTM cell processes one word at a time and computes probabilities of the possible continuations of the sentence.\n",
    "        lstm_cell_l1 = tf.contrib.rnn.BasicLSTMCell(self.hidden_size_l1, forget_bias=0.0)\n",
    "        lstm_cell_l2 = tf.contrib.rnn.BasicLSTMCell(self.hidden_size_l2, forget_bias=0.0)\n",
    "        \n",
    "        # Unless you changed keep_prob, this won't actually execute -- this is a dropout wrapper for our LSTM unit\n",
    "        # This is an optimization of the LSTM output, but is not needed at all\n",
    "        if action_type == \"is_training\" and keep_prob < 1:\n",
    "            lstm_cell_l1 = tf.contrib.rnn.DropoutWrapper(lstm_cell_l1, output_keep_prob=keep_prob)\n",
    "            lstm_cell_l2 = tf.contrib.rnn.DropoutWrapper(lstm_cell_l2, output_keep_prob=keep_prob)\n",
    "        \n",
    "        # By taking in the LSTM cells as parameters, the MultiRNNCell function junctions the LSTM units to the RNN units.\n",
    "        # RNN cell composed sequentially of multiple simple cells.\n",
    "        stacked_lstm = tf.contrib.rnn.MultiRNNCell([lstm_cell_l1, lstm_cell_l2])\n",
    "\n",
    "        # Define the initial state, i.e., the model state for the very first data point\n",
    "        # It initialize the state of the LSTM memory. The memory state of the network is initialized with a vector of zeros and gets updated after reading each word.\n",
    "        self._initial_state = stacked_lstm.zero_state(batch_size, tf.float32)\n",
    "\n",
    "        ####################################################################\n",
    "        # Creating the word embeddings and pointing them to the input data #\n",
    "        ####################################################################\n",
    "        with tf.device(\"/cpu:0\"):\n",
    "            # Create the embeddings for our input data. Size is hidden size.\n",
    "            embedding = tf.get_variable(\"embedding\", [vocab_size, self.embeding_vector_size])  #[10000x200]\n",
    "            # Define where to get the data for our embeddings from\n",
    "            inputs = tf.nn.embedding_lookup(embedding, self._input_data)\n",
    "\n",
    "        # Unless you changed keep_prob, this won't actually execute -- this is a dropout addition for our inputs\n",
    "        # This is an optimization of the input processing and is not needed at all\n",
    "        if action_type == \"is_training\" and keep_prob < 1:\n",
    "            inputs = tf.nn.dropout(inputs, keep_prob)\n",
    "\n",
    "        ############################################\n",
    "        # Creating the input structure for our RNN #\n",
    "        ############################################\n",
    "        # Input structure is 20x[30x200]\n",
    "        # Considering each word is represended by a 200 dimentional vector, and we have 30 batchs, we create 30 word-vectors of size [30xx2000]\n",
    "        # inputs = [tf.squeeze(input_, [1]) for input_ in tf.split(1, num_steps, inputs)]\n",
    "        # The input structure is fed from the embeddings, which are filled in by the input data\n",
    "        # Feeding a batch of b sentences to a RNN:\n",
    "        # In step 1,  first word of each of the b sentences (in a batch) is input in parallel.  \n",
    "        # In step 2,  second word of each of the b sentences is input in parallel. \n",
    "        # The parallelism is only for efficiency.  \n",
    "        # Each sentence in a batch is handled in parallel, but the network sees one word of a sentence at a time and does the computations accordingly. \n",
    "        # All the computations involving the words of all sentences in a batch at a given time step are done in parallel. \n",
    "\n",
    "        ####################################################################################################\n",
    "        # Instantiating our RNN model and retrieving the structure for returning the outputs and the state #\n",
    "        ####################################################################################################\n",
    "        \n",
    "        outputs, state = tf.nn.dynamic_rnn(stacked_lstm, inputs, initial_state=self._initial_state)\n",
    "        #########################################################################\n",
    "        # Creating a logistic unit to return the probability of the output word #\n",
    "        #########################################################################\n",
    "        output = tf.reshape(outputs, [-1, self.hidden_size_l2])\n",
    "        softmax_w = tf.get_variable(\"softmax_w\", [self.hidden_size_l2, vocab_size]) #[200x1000]\n",
    "        softmax_b = tf.get_variable(\"softmax_b\", [vocab_size]) #[1x1000]\n",
    "        logits = tf.matmul(output, softmax_w) + softmax_b\n",
    "        logits = tf.reshape(logits, [self.batch_size, self.num_steps, vocab_size])\n",
    "        prob = tf.nn.softmax(logits)\n",
    "        out_words = tf.argmax(prob, axis=2)\n",
    "        self._output_words = out_words\n",
    "        #########################################################################\n",
    "        # Defining the loss and cost functions for the model's learning to work #\n",
    "        #########################################################################\n",
    "            \n",
    "\n",
    "        # Use the contrib sequence loss and average over the batches\n",
    "        loss = tf.contrib.seq2seq.sequence_loss(\n",
    "            logits,\n",
    "            self.targets,\n",
    "            tf.ones([batch_size, num_steps], dtype=tf.float32),\n",
    "            average_across_timesteps=False,\n",
    "            average_across_batch=True)\n",
    "    \n",
    "#         loss = tf.contrib.legacy_seq2seq.sequence_loss_by_example([logits], [tf.reshape(self._targets, [-1])],\n",
    "#                                                       [tf.ones([batch_size * num_steps])])\n",
    "        self._cost = tf.reduce_sum(loss)\n",
    "\n",
    "        # Store the final state\n",
    "        self._final_state = state\n",
    "\n",
    "        #Everything after this point is relevant only for training\n",
    "        if action_type != \"is_training\":\n",
    "            return\n",
    "\n",
    "        #################################################\n",
    "        # Creating the Training Operation for our Model #\n",
    "        #################################################\n",
    "        # Create a variable for the learning rate\n",
    "        self._lr = tf.Variable(0.0, trainable=False)\n",
    "        # Get all TensorFlow variables marked as \"trainable\" (i.e. all of them except _lr, which we just created)\n",
    "        tvars = tf.trainable_variables()\n",
    "        # Define the gradient clipping threshold\n",
    "        grads, _ = tf.clip_by_global_norm(tf.gradients(self._cost, tvars), max_grad_norm)\n",
    "        # Create the gradient descent optimizer with our learning rate\n",
    "        optimizer = tf.train.GradientDescentOptimizer(self.lr)\n",
    "        # Create the training TensorFlow Operation through our optimizer\n",
    "        self._train_op = optimizer.apply_gradients(zip(grads, tvars))\n",
    "\n",
    "    # Helper functions for our LSTM RNN class\n",
    "\n",
    "    # Assign the learning rate for this model\n",
    "    def assign_lr(self, session, lr_value):\n",
    "        session.run(tf.assign(self.lr, lr_value))\n",
    "\n",
    "    # Returns the input data for this model at a point in time\n",
    "    @property\n",
    "    def input_data(self):\n",
    "        return self._input_data\n",
    "\n",
    "\n",
    "    \n",
    "    # Returns the targets for this model at a point in time\n",
    "    @property\n",
    "    def targets(self):\n",
    "        return self._targets\n",
    "\n",
    "    # Returns the initial state for this model\n",
    "    @property\n",
    "    def initial_state(self):\n",
    "        return self._initial_state\n",
    "\n",
    "    # Returns the defined Cost\n",
    "    @property\n",
    "    def cost(self):\n",
    "        return self._cost\n",
    "\n",
    "    # Returns the final state for this model\n",
    "    @property\n",
    "    def final_state(self):\n",
    "        return self._final_state\n",
    "    \n",
    "    # Returns the final output words for this model\n",
    "    @property\n",
    "    def final_output_words(self):\n",
    "        return self._output_words\n",
    "    \n",
    "    # Returns the current learning rate for this model\n",
    "    @property\n",
    "    def lr(self):\n",
    "        return self._lr\n",
    "\n",
    "    # Returns the training operation defined for this model\n",
    "    @property\n",
    "    def train_op(self):\n",
    "        return self._train_op"
   ]
  },
  {
   "cell_type": "markdown",
   "metadata": {
    "button": false,
    "deletable": true,
    "new_sheet": false,
    "run_control": {
     "read_only": false
    }
   },
   "source": [
    "With that, the actual structure of our Recurrent Neural Network with Long Short-Term Memory is finished. What remains for us to do is to actually create the methods to run through time -- that is, the <code>run_epoch</code> method to be run at each epoch and a <code>main</code> script which ties all of this together.\n",
    "\n",
    "What our <code>run_epoch</code> method should do is take our input data and feed it to the relevant operations. This will return at the very least the current result for the cost function."
   ]
  },
  {
   "cell_type": "code",
   "execution_count": 166,
   "metadata": {
    "button": false,
    "deletable": true,
    "new_sheet": false,
    "run_control": {
     "read_only": false
    }
   },
   "outputs": [],
   "source": [
    "##########################################################################################################################\n",
    "# run_one_epoch takes as parameters the current session, the model instance, the data to be fed, and the operation to be run #\n",
    "##########################################################################################################################\n",
    "def run_one_epoch(session, m, data, eval_op, verbose=False):\n",
    "\n",
    "    #Define the epoch size based on the length of the data, batch size and the number of steps\n",
    "    epoch_size = ((len(data) // m.batch_size) - 1) // m.num_steps\n",
    "    start_time = time.time()\n",
    "    costs = 0.0\n",
    "    iters = 0\n",
    "\n",
    "    state = session.run(m.initial_state)\n",
    "    \n",
    "    #For each step and data point\n",
    "    for step, (x, y) in enumerate(reader.ptb_iterator(data, m.batch_size, m.num_steps)):\n",
    "        \n",
    "        #Evaluate and return cost, state by running cost, final_state and the function passed as parameter\n",
    "        cost, state, out_words, _ = session.run([m.cost, m.final_state, m.final_output_words, eval_op],\n",
    "                                     {m.input_data: x,\n",
    "                                      m.targets: y,\n",
    "                                      m.initial_state: state})\n",
    "\n",
    "        #Add returned cost to costs (which keeps track of the total costs for this epoch)\n",
    "        costs += cost\n",
    "        \n",
    "        #Add number of steps to iteration counter\n",
    "        iters += m.num_steps\n",
    "\n",
    "        if verbose and step % (epoch_size // 10) == 10:\n",
    "            print(\"Itr %d of %d, perplexity: %.3f speed: %.0f wps\" % (step , epoch_size, np.exp(costs / iters), iters * m.batch_size / (time.time() - start_time)))\n",
    "\n",
    "    # Returns the Perplexity rating for us to keep track of how the model is evolving\n",
    "    return np.exp(costs / iters)\n"
   ]
  },
  {
   "cell_type": "markdown",
   "metadata": {
    "button": false,
    "deletable": true,
    "new_sheet": false,
    "run_control": {
     "read_only": false
    }
   },
   "source": [
    "Now, we create the <code>main</code> method to tie everything together. The code here reads the data from the directory, using the <code>reader</code> helper module, and then trains and evaluates the model on both a testing and a validating subset of data."
   ]
  },
  {
   "cell_type": "code",
   "execution_count": 167,
   "metadata": {
    "button": false,
    "deletable": true,
    "new_sheet": false,
    "run_control": {
     "read_only": false
    }
   },
   "outputs": [],
   "source": [
    "# Reads the data and separates it into training data, validation data and testing data\n",
    "raw_data = reader.ptb_raw_data(data_dir)\n",
    "train_data, valid_data, test_data, _, _ = raw_data"
   ]
  },
  {
   "cell_type": "code",
   "execution_count": 168,
   "metadata": {
    "button": false,
    "deletable": true,
    "new_sheet": false,
    "run_control": {
     "read_only": false
    }
   },
   "outputs": [
    {
     "name": "stdout",
     "output_type": "stream",
     "text": [
      "Epoch 1 : Learning rate: 1.000\n",
      "Itr 10 of 774, perplexity: 4368.122 speed: 1965 wps\n",
      "Itr 87 of 774, perplexity: 1290.130 speed: 2072 wps\n",
      "Itr 164 of 774, perplexity: 998.993 speed: 2080 wps\n",
      "Itr 241 of 774, perplexity: 827.959 speed: 2083 wps\n",
      "Itr 318 of 774, perplexity: 732.155 speed: 2081 wps\n",
      "Itr 395 of 774, perplexity: 652.953 speed: 2081 wps\n",
      "Itr 472 of 774, perplexity: 589.776 speed: 2080 wps\n",
      "Itr 549 of 774, perplexity: 534.674 speed: 2078 wps\n",
      "Itr 626 of 774, perplexity: 491.409 speed: 2078 wps\n",
      "Itr 703 of 774, perplexity: 456.711 speed: 2077 wps\n",
      "Epoch 1 : Train Perplexity: 431.998\n",
      "Epoch 1 : Valid Perplexity: 256.321\n",
      "Epoch 2 : Learning rate: 1.000\n",
      "Itr 10 of 774, perplexity: 276.335 speed: 2057 wps\n"
     ]
    },
    {
     "ename": "KeyboardInterrupt",
     "evalue": "",
     "output_type": "error",
     "traceback": [
      "\u001b[0;31m---------------------------------------------------------------------------\u001b[0m",
      "\u001b[0;31mKeyboardInterrupt\u001b[0m                         Traceback (most recent call last)",
      "\u001b[0;32m<ipython-input-168-5ef6a77fa31d>\u001b[0m in \u001b[0;36m<module>\u001b[0;34m\u001b[0m\n\u001b[1;32m     27\u001b[0m \u001b[0;34m\u001b[0m\u001b[0m\n\u001b[1;32m     28\u001b[0m         \u001b[0;31m# Run the loop for this epoch in the training model\u001b[0m\u001b[0;34m\u001b[0m\u001b[0;34m\u001b[0m\u001b[0;34m\u001b[0m\u001b[0m\n\u001b[0;32m---> 29\u001b[0;31m         \u001b[0mtrain_perplexity\u001b[0m \u001b[0;34m=\u001b[0m \u001b[0mrun_one_epoch\u001b[0m\u001b[0;34m(\u001b[0m\u001b[0msession\u001b[0m\u001b[0;34m,\u001b[0m \u001b[0mm\u001b[0m\u001b[0;34m,\u001b[0m \u001b[0mtrain_data\u001b[0m\u001b[0;34m,\u001b[0m \u001b[0mm\u001b[0m\u001b[0;34m.\u001b[0m\u001b[0mtrain_op\u001b[0m\u001b[0;34m,\u001b[0m \u001b[0mverbose\u001b[0m\u001b[0;34m=\u001b[0m\u001b[0;32mTrue\u001b[0m\u001b[0;34m)\u001b[0m\u001b[0;34m\u001b[0m\u001b[0;34m\u001b[0m\u001b[0m\n\u001b[0m\u001b[1;32m     30\u001b[0m         \u001b[0mprint\u001b[0m\u001b[0;34m(\u001b[0m\u001b[0;34m\"Epoch %d : Train Perplexity: %.3f\"\u001b[0m \u001b[0;34m%\u001b[0m \u001b[0;34m(\u001b[0m\u001b[0mi\u001b[0m \u001b[0;34m+\u001b[0m \u001b[0;36m1\u001b[0m\u001b[0;34m,\u001b[0m \u001b[0mtrain_perplexity\u001b[0m\u001b[0;34m)\u001b[0m\u001b[0;34m)\u001b[0m\u001b[0;34m\u001b[0m\u001b[0;34m\u001b[0m\u001b[0m\n\u001b[1;32m     31\u001b[0m \u001b[0;34m\u001b[0m\u001b[0m\n",
      "\u001b[0;32m<ipython-input-166-0f72e283cf78>\u001b[0m in \u001b[0;36mrun_one_epoch\u001b[0;34m(session, m, data, eval_op, verbose)\u001b[0m\n\u001b[1;32m     19\u001b[0m                                      {m.input_data: x,\n\u001b[1;32m     20\u001b[0m                                       \u001b[0mm\u001b[0m\u001b[0;34m.\u001b[0m\u001b[0mtargets\u001b[0m\u001b[0;34m:\u001b[0m \u001b[0my\u001b[0m\u001b[0;34m,\u001b[0m\u001b[0;34m\u001b[0m\u001b[0;34m\u001b[0m\u001b[0m\n\u001b[0;32m---> 21\u001b[0;31m                                       m.initial_state: state})\n\u001b[0m\u001b[1;32m     22\u001b[0m \u001b[0;34m\u001b[0m\u001b[0m\n\u001b[1;32m     23\u001b[0m         \u001b[0;31m#Add returned cost to costs (which keeps track of the total costs for this epoch)\u001b[0m\u001b[0;34m\u001b[0m\u001b[0;34m\u001b[0m\u001b[0;34m\u001b[0m\u001b[0m\n",
      "\u001b[0;32m~/conda/envs/python/lib/python3.6/site-packages/tensorflow/python/client/session.py\u001b[0m in \u001b[0;36mrun\u001b[0;34m(self, fetches, feed_dict, options, run_metadata)\u001b[0m\n\u001b[1;32m    898\u001b[0m     \u001b[0;32mtry\u001b[0m\u001b[0;34m:\u001b[0m\u001b[0;34m\u001b[0m\u001b[0;34m\u001b[0m\u001b[0m\n\u001b[1;32m    899\u001b[0m       result = self._run(None, fetches, feed_dict, options_ptr,\n\u001b[0;32m--> 900\u001b[0;31m                          run_metadata_ptr)\n\u001b[0m\u001b[1;32m    901\u001b[0m       \u001b[0;32mif\u001b[0m \u001b[0mrun_metadata\u001b[0m\u001b[0;34m:\u001b[0m\u001b[0;34m\u001b[0m\u001b[0;34m\u001b[0m\u001b[0m\n\u001b[1;32m    902\u001b[0m         \u001b[0mproto_data\u001b[0m \u001b[0;34m=\u001b[0m \u001b[0mtf_session\u001b[0m\u001b[0;34m.\u001b[0m\u001b[0mTF_GetBuffer\u001b[0m\u001b[0;34m(\u001b[0m\u001b[0mrun_metadata_ptr\u001b[0m\u001b[0;34m)\u001b[0m\u001b[0;34m\u001b[0m\u001b[0;34m\u001b[0m\u001b[0m\n",
      "\u001b[0;32m~/conda/envs/python/lib/python3.6/site-packages/tensorflow/python/client/session.py\u001b[0m in \u001b[0;36m_run\u001b[0;34m(self, handle, fetches, feed_dict, options, run_metadata)\u001b[0m\n\u001b[1;32m   1133\u001b[0m     \u001b[0;32mif\u001b[0m \u001b[0mfinal_fetches\u001b[0m \u001b[0;32mor\u001b[0m \u001b[0mfinal_targets\u001b[0m \u001b[0;32mor\u001b[0m \u001b[0;34m(\u001b[0m\u001b[0mhandle\u001b[0m \u001b[0;32mand\u001b[0m \u001b[0mfeed_dict_tensor\u001b[0m\u001b[0;34m)\u001b[0m\u001b[0;34m:\u001b[0m\u001b[0;34m\u001b[0m\u001b[0;34m\u001b[0m\u001b[0m\n\u001b[1;32m   1134\u001b[0m       results = self._do_run(handle, final_targets, final_fetches,\n\u001b[0;32m-> 1135\u001b[0;31m                              feed_dict_tensor, options, run_metadata)\n\u001b[0m\u001b[1;32m   1136\u001b[0m     \u001b[0;32melse\u001b[0m\u001b[0;34m:\u001b[0m\u001b[0;34m\u001b[0m\u001b[0;34m\u001b[0m\u001b[0m\n\u001b[1;32m   1137\u001b[0m       \u001b[0mresults\u001b[0m \u001b[0;34m=\u001b[0m \u001b[0;34m[\u001b[0m\u001b[0;34m]\u001b[0m\u001b[0;34m\u001b[0m\u001b[0;34m\u001b[0m\u001b[0m\n",
      "\u001b[0;32m~/conda/envs/python/lib/python3.6/site-packages/tensorflow/python/client/session.py\u001b[0m in \u001b[0;36m_do_run\u001b[0;34m(self, handle, target_list, fetch_list, feed_dict, options, run_metadata)\u001b[0m\n\u001b[1;32m   1314\u001b[0m     \u001b[0;32mif\u001b[0m \u001b[0mhandle\u001b[0m \u001b[0;32mis\u001b[0m \u001b[0;32mNone\u001b[0m\u001b[0;34m:\u001b[0m\u001b[0;34m\u001b[0m\u001b[0;34m\u001b[0m\u001b[0m\n\u001b[1;32m   1315\u001b[0m       return self._do_call(_run_fn, feeds, fetches, targets, options,\n\u001b[0;32m-> 1316\u001b[0;31m                            run_metadata)\n\u001b[0m\u001b[1;32m   1317\u001b[0m     \u001b[0;32melse\u001b[0m\u001b[0;34m:\u001b[0m\u001b[0;34m\u001b[0m\u001b[0;34m\u001b[0m\u001b[0m\n\u001b[1;32m   1318\u001b[0m       \u001b[0;32mreturn\u001b[0m \u001b[0mself\u001b[0m\u001b[0;34m.\u001b[0m\u001b[0m_do_call\u001b[0m\u001b[0;34m(\u001b[0m\u001b[0m_prun_fn\u001b[0m\u001b[0;34m,\u001b[0m \u001b[0mhandle\u001b[0m\u001b[0;34m,\u001b[0m \u001b[0mfeeds\u001b[0m\u001b[0;34m,\u001b[0m \u001b[0mfetches\u001b[0m\u001b[0;34m)\u001b[0m\u001b[0;34m\u001b[0m\u001b[0;34m\u001b[0m\u001b[0m\n",
      "\u001b[0;32m~/conda/envs/python/lib/python3.6/site-packages/tensorflow/python/client/session.py\u001b[0m in \u001b[0;36m_do_call\u001b[0;34m(self, fn, *args)\u001b[0m\n\u001b[1;32m   1320\u001b[0m   \u001b[0;32mdef\u001b[0m \u001b[0m_do_call\u001b[0m\u001b[0;34m(\u001b[0m\u001b[0mself\u001b[0m\u001b[0;34m,\u001b[0m \u001b[0mfn\u001b[0m\u001b[0;34m,\u001b[0m \u001b[0;34m*\u001b[0m\u001b[0margs\u001b[0m\u001b[0;34m)\u001b[0m\u001b[0;34m:\u001b[0m\u001b[0;34m\u001b[0m\u001b[0;34m\u001b[0m\u001b[0m\n\u001b[1;32m   1321\u001b[0m     \u001b[0;32mtry\u001b[0m\u001b[0;34m:\u001b[0m\u001b[0;34m\u001b[0m\u001b[0;34m\u001b[0m\u001b[0m\n\u001b[0;32m-> 1322\u001b[0;31m       \u001b[0;32mreturn\u001b[0m \u001b[0mfn\u001b[0m\u001b[0;34m(\u001b[0m\u001b[0;34m*\u001b[0m\u001b[0margs\u001b[0m\u001b[0;34m)\u001b[0m\u001b[0;34m\u001b[0m\u001b[0;34m\u001b[0m\u001b[0m\n\u001b[0m\u001b[1;32m   1323\u001b[0m     \u001b[0;32mexcept\u001b[0m \u001b[0merrors\u001b[0m\u001b[0;34m.\u001b[0m\u001b[0mOpError\u001b[0m \u001b[0;32mas\u001b[0m \u001b[0me\u001b[0m\u001b[0;34m:\u001b[0m\u001b[0;34m\u001b[0m\u001b[0;34m\u001b[0m\u001b[0m\n\u001b[1;32m   1324\u001b[0m       \u001b[0mmessage\u001b[0m \u001b[0;34m=\u001b[0m \u001b[0mcompat\u001b[0m\u001b[0;34m.\u001b[0m\u001b[0mas_text\u001b[0m\u001b[0;34m(\u001b[0m\u001b[0me\u001b[0m\u001b[0;34m.\u001b[0m\u001b[0mmessage\u001b[0m\u001b[0;34m)\u001b[0m\u001b[0;34m\u001b[0m\u001b[0;34m\u001b[0m\u001b[0m\n",
      "\u001b[0;32m~/conda/envs/python/lib/python3.6/site-packages/tensorflow/python/client/session.py\u001b[0m in \u001b[0;36m_run_fn\u001b[0;34m(feed_dict, fetch_list, target_list, options, run_metadata)\u001b[0m\n\u001b[1;32m   1305\u001b[0m       \u001b[0mself\u001b[0m\u001b[0;34m.\u001b[0m\u001b[0m_extend_graph\u001b[0m\u001b[0;34m(\u001b[0m\u001b[0;34m)\u001b[0m\u001b[0;34m\u001b[0m\u001b[0;34m\u001b[0m\u001b[0m\n\u001b[1;32m   1306\u001b[0m       return self._call_tf_sessionrun(\n\u001b[0;32m-> 1307\u001b[0;31m           options, feed_dict, fetch_list, target_list, run_metadata)\n\u001b[0m\u001b[1;32m   1308\u001b[0m \u001b[0;34m\u001b[0m\u001b[0m\n\u001b[1;32m   1309\u001b[0m     \u001b[0;32mdef\u001b[0m \u001b[0m_prun_fn\u001b[0m\u001b[0;34m(\u001b[0m\u001b[0mhandle\u001b[0m\u001b[0;34m,\u001b[0m \u001b[0mfeed_dict\u001b[0m\u001b[0;34m,\u001b[0m \u001b[0mfetch_list\u001b[0m\u001b[0;34m)\u001b[0m\u001b[0;34m:\u001b[0m\u001b[0;34m\u001b[0m\u001b[0;34m\u001b[0m\u001b[0m\n",
      "\u001b[0;32m~/conda/envs/python/lib/python3.6/site-packages/tensorflow/python/client/session.py\u001b[0m in \u001b[0;36m_call_tf_sessionrun\u001b[0;34m(self, options, feed_dict, fetch_list, target_list, run_metadata)\u001b[0m\n\u001b[1;32m   1407\u001b[0m       return tf_session.TF_SessionRun_wrapper(\n\u001b[1;32m   1408\u001b[0m           \u001b[0mself\u001b[0m\u001b[0;34m.\u001b[0m\u001b[0m_session\u001b[0m\u001b[0;34m,\u001b[0m \u001b[0moptions\u001b[0m\u001b[0;34m,\u001b[0m \u001b[0mfeed_dict\u001b[0m\u001b[0;34m,\u001b[0m \u001b[0mfetch_list\u001b[0m\u001b[0;34m,\u001b[0m \u001b[0mtarget_list\u001b[0m\u001b[0;34m,\u001b[0m\u001b[0;34m\u001b[0m\u001b[0;34m\u001b[0m\u001b[0m\n\u001b[0;32m-> 1409\u001b[0;31m           run_metadata)\n\u001b[0m\u001b[1;32m   1410\u001b[0m     \u001b[0;32melse\u001b[0m\u001b[0;34m:\u001b[0m\u001b[0;34m\u001b[0m\u001b[0;34m\u001b[0m\u001b[0m\n\u001b[1;32m   1411\u001b[0m       \u001b[0;32mwith\u001b[0m \u001b[0merrors\u001b[0m\u001b[0;34m.\u001b[0m\u001b[0mraise_exception_on_not_ok_status\u001b[0m\u001b[0;34m(\u001b[0m\u001b[0;34m)\u001b[0m \u001b[0;32mas\u001b[0m \u001b[0mstatus\u001b[0m\u001b[0;34m:\u001b[0m\u001b[0;34m\u001b[0m\u001b[0;34m\u001b[0m\u001b[0m\n",
      "\u001b[0;31mKeyboardInterrupt\u001b[0m: "
     ]
    }
   ],
   "source": [
    "# Initializes the Execution Graph and the Session\n",
    "with tf.Graph().as_default(), tf.Session() as session:\n",
    "    initializer = tf.random_uniform_initializer(-init_scale, init_scale)\n",
    "    \n",
    "    # Instantiates the model for training\n",
    "    # tf.variable_scope add a prefix to the variables created with tf.get_variable\n",
    "    with tf.variable_scope(\"model\", reuse=None, initializer=initializer):\n",
    "        m = PTBModel(\"is_training\")\n",
    "        \n",
    "    # Reuses the trained parameters for the validation and testing models\n",
    "    # They are different instances but use the same variables for weights and biases, they just don't change when data is input\n",
    "    with tf.variable_scope(\"model\", reuse=True, initializer=initializer):\n",
    "        mvalid = PTBModel(\"is_validating\")\n",
    "        mtest = PTBModel(\"is_testing\")\n",
    "\n",
    "    #Initialize all variables\n",
    "    tf.global_variables_initializer().run()\n",
    "\n",
    "    for i in range(max_epoch):\n",
    "        # Define the decay for this epoch\n",
    "        lr_decay = decay ** max(i - max_epoch_decay_lr, 0.0)\n",
    "        \n",
    "        # Set the decayed learning rate as the learning rate for this epoch\n",
    "        m.assign_lr(session, learning_rate * lr_decay)\n",
    "\n",
    "        print(\"Epoch %d : Learning rate: %.3f\" % (i + 1, session.run(m.lr)))\n",
    "        \n",
    "        # Run the loop for this epoch in the training model\n",
    "        train_perplexity = run_one_epoch(session, m, train_data, m.train_op, verbose=True)\n",
    "        print(\"Epoch %d : Train Perplexity: %.3f\" % (i + 1, train_perplexity))\n",
    "        \n",
    "        # Run the loop for this epoch in the validation model\n",
    "        valid_perplexity = run_one_epoch(session, mvalid, valid_data, tf.no_op())\n",
    "        print(\"Epoch %d : Valid Perplexity: %.3f\" % (i + 1, valid_perplexity))\n",
    "    \n",
    "    # Run the loop in the testing model to see how effective was our training\n",
    "    test_perplexity = run_one_epoch(session, mtest, test_data, tf.no_op())\n",
    "    \n",
    "    print(\"Test Perplexity: %.3f\" % test_perplexity)"
   ]
  },
  {
   "cell_type": "markdown",
   "metadata": {
    "button": false,
    "deletable": true,
    "new_sheet": false,
    "run_control": {
     "read_only": false
    }
   },
   "source": [
    "As you can see, the model's perplexity rating drops very quickly after a few iterations. As was elaborated before, <b>lower Perplexity means that the model is more certain about its prediction</b>. As such, we can be sure that this model is performing well!"
   ]
  },
  {
   "cell_type": "markdown",
   "metadata": {
    "button": false,
    "deletable": true,
    "new_sheet": false,
    "run_control": {
     "read_only": false
    }
   },
   "source": [
    "-------"
   ]
  },
  {
   "cell_type": "markdown",
   "metadata": {
    "button": false,
    "deletable": true,
    "new_sheet": false,
    "run_control": {
     "read_only": false
    }
   },
   "source": [
    "This is the end of the <b>Applying Recurrent Neural Networks to Text Processing</b> notebook. Hopefully you now have a better understanding of Recurrent Neural Networks and how to implement one utilizing TensorFlow. Thank you for reading this notebook, and good luck on your studies."
   ]
  },
  {
   "cell_type": "markdown",
   "metadata": {
    "button": false,
    "deletable": true,
    "new_sheet": false,
    "run_control": {
     "read_only": false
    }
   },
   "source": [
    "## Want to learn more?\n",
    "\n",
    "Running deep learning programs usually needs a high performance platform. __PowerAI__ speeds up deep learning and AI. Built on IBM’s Power Systems, __PowerAI__ is a scalable software platform that accelerates deep learning and AI with blazing performance for individual users or enterprises. The __PowerAI__ platform supports popular machine learning libraries and dependencies including TensorFlow, Caffe, Torch, and Theano. You can use [PowerAI on IMB Cloud](https://cocl.us/ML0120EN_PAI).\n",
    "\n",
    "Also, you can use __Watson Studio__ to run these notebooks faster with bigger datasets.__Watson Studio__ is IBM’s leading cloud solution for data scientists, built by data scientists. With Jupyter notebooks, RStudio, Apache Spark and popular libraries pre-packaged in the cloud, __Watson Studio__ enables data scientists to collaborate on their projects without having to install anything. Join the fast-growing community of __Watson Studio__ users today with a free account at [Watson Studio](https://cocl.us/ML0120EN_DSX).This is the end of this lesson. Thank you for reading this notebook, and good luck on your studies."
   ]
  },
  {
   "cell_type": "markdown",
   "metadata": {
    "button": false,
    "deletable": true,
    "new_sheet": false,
    "run_control": {
     "read_only": false
    }
   },
   "source": [
    "### Thanks for completing this lesson!\n",
    "\n",
    "Notebook created by <a href=\"https://br.linkedin.com/in/walter-gomes-de-amorim-junior-624726121\">Walter Gomes de Amorim Junior</a>, <a href = \"https://linkedin.com/in/saeedaghabozorgi\"> Saeed Aghabozorgi </a></h4>"
   ]
  },
  {
   "cell_type": "markdown",
   "metadata": {
    "button": false,
    "deletable": true,
    "new_sheet": false,
    "run_control": {
     "read_only": false
    }
   },
   "source": [
    "<hr>\n",
    "\n",
    "Copyright &copy; 2018 [Cognitive Class](https://cocl.us/DX0108EN_CC). This notebook and its source code are released under the terms of the [MIT License](https://bigdatauniversity.com/mit-license/)."
   ]
  }
 ],
 "metadata": {
  "anaconda-cloud": {},
  "kernelspec": {
   "display_name": "Python",
   "language": "python",
   "name": "conda-env-python-py"
  },
  "language_info": {
   "codemirror_mode": {
    "name": "ipython",
    "version": 3
   },
   "file_extension": ".py",
   "mimetype": "text/x-python",
   "name": "python",
   "nbconvert_exporter": "python",
   "pygments_lexer": "ipython3",
   "version": "3.6.7"
  },
  "widgets": {
   "state": {},
   "version": "1.1.2"
  }
 },
 "nbformat": 4,
 "nbformat_minor": 4
}
